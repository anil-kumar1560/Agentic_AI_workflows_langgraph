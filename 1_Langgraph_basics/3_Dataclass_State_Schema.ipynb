{
 "cells": [
  {
   "cell_type": "code",
   "execution_count": 1,
   "id": "00b45f5f",
   "metadata": {},
   "outputs": [],
   "source": [
    "from typing_extensions import TypedDict\n",
    "from typing import Literal \n",
    "\n",
    "class TypedDictState(TypedDict):\n",
    "    name:str\n",
    "    game:Literal['cricket','football']"
   ]
  },
  {
   "cell_type": "code",
   "execution_count": 23,
   "id": "5c21eccf",
   "metadata": {},
   "outputs": [],
   "source": [
    "def play_game(state:TypedDictState):\n",
    "    print(\"I am in play game node\")\n",
    "    return {\"name\":state['name']+\" want to play \"}\n",
    "\n",
    "def cricket(state:TypedDictState):\n",
    "    print(\"I am in cricket node\")\n",
    "    return {\"name\": state['name']+ \"Cricket\",\"game\":\"Cricket\"}\n",
    "\n",
    "def football(state:TypedDictState):\n",
    "    print(\"I am in football node\")\n",
    "    return {\"name\": state['name']+ \"FootBall\",\"game\":\"Fhddjfj\"}"
   ]
  },
  {
   "cell_type": "code",
   "execution_count": 14,
   "id": "b00c9d68",
   "metadata": {},
   "outputs": [],
   "source": [
    "import random\n",
    "def decide_play(state:TypedDictState) -> Literal[\"cricket\",\"football\"]:\n",
    "    print(\"I am in decide play node\")\n",
    "    if random.random()>0.5:\n",
    "        return \"cricket\"\n",
    "    else:\n",
    "        return \"football\"\n"
   ]
  },
  {
   "cell_type": "code",
   "execution_count": 24,
   "id": "f238638c",
   "metadata": {},
   "outputs": [
    {
     "name": "stdout",
     "output_type": "stream",
     "text": [
      "---\n",
      "config:\n",
      "  flowchart:\n",
      "    curve: linear\n",
      "---\n",
      "graph TD;\n",
      "\t__start__([<p>__start__</p>]):::first\n",
      "\tplaygame(playgame)\n",
      "\tcricket(cricket)\n",
      "\tfootball(football)\n",
      "\t__end__([<p>__end__</p>]):::last\n",
      "\t__start__ --> playgame;\n",
      "\tplaygame -.-> cricket;\n",
      "\tplaygame -.-> football;\n",
      "\tcricket --> __end__;\n",
      "\tfootball --> __end__;\n",
      "\tclassDef default fill:#f2f0ff,line-height:1.2\n",
      "\tclassDef first fill-opacity:0\n",
      "\tclassDef last fill:#bfb6fc\n",
      "\n"
     ]
    }
   ],
   "source": [
    "from IPython.display import display, Image\n",
    "from langgraph.graph import START,END,StateGraph\n",
    "\n",
    "graph=StateGraph(TypedDictState)\n",
    "\n",
    "## Adding Nodes\n",
    "graph.add_node(\"playgame\",play_game)\n",
    "graph.add_node(\"cricket\",cricket)\n",
    "graph.add_node(\"football\",football)\n",
    "\n",
    "## Adding Edges\n",
    "graph.add_edge(START,\"playgame\")\n",
    "graph.add_conditional_edges(\"playgame\",decide_play)\n",
    "graph.add_edge(\"cricket\",END)\n",
    "graph.add_edge(\"football\",END)\n",
    "\n",
    "# Add\n",
    "graph_builder=graph.compile()\n",
    "\n",
    "# View\n",
    "#display(Image(graph_builder.get_graph().draw_mermaid_png()))\n",
    "\n",
    "print(graph_builder.get_graph().draw_mermaid())\n",
    "\n"
   ]
  },
  {
   "cell_type": "code",
   "execution_count": 25,
   "id": "b58d4e3f",
   "metadata": {},
   "outputs": [
    {
     "name": "stdout",
     "output_type": "stream",
     "text": [
      "I am in play game node\n",
      "I am in decide play node\n",
      "I am in football node\n"
     ]
    },
    {
     "data": {
      "text/plain": [
       "{'name': 'Anil want to play FootBall', 'game': 'Fhddjfj'}"
      ]
     },
     "execution_count": 25,
     "metadata": {},
     "output_type": "execute_result"
    }
   ],
   "source": [
    "graph_builder.invoke({\"name\":\"Anil\"})"
   ]
  },
  {
   "cell_type": "markdown",
   "id": "c086c147",
   "metadata": {},
   "source": [
    "## Dataclasses"
   ]
  },
  {
   "cell_type": "code",
   "execution_count": 26,
   "id": "c8bfc280",
   "metadata": {},
   "outputs": [],
   "source": [
    "from dataclasses import dataclass\n",
    "\n",
    "@dataclass\n",
    "class DataClassState:\n",
    "    name:str\n",
    "    game:Literal['cricket','football']"
   ]
  },
  {
   "cell_type": "code",
   "execution_count": 27,
   "id": "f56a1cbc",
   "metadata": {},
   "outputs": [],
   "source": [
    "def play_game(state:DataClassState):\n",
    "    print(\"I am in play game node\")\n",
    "    return {\"name\":state.name+\" want to play \"}\n",
    "\n",
    "def cricket(state:DataClassState):\n",
    "    print(\"I am in cricket node\")\n",
    "    return {\"name\": state.name+ \"Cricket\",\"game\":\"Cricket\"}\n",
    "\n",
    "def football(state:DataClassState):\n",
    "    print(\"I am in football node\")\n",
    "    return {\"name\": state.name+ \"FootBall\",\"game\":\"FootBall\"}"
   ]
  },
  {
   "cell_type": "code",
   "execution_count": 28,
   "id": "ebf5fbbb",
   "metadata": {},
   "outputs": [],
   "source": [
    "import random\n",
    "def decide_play(state:DataClassState) -> Literal[\"cricket\",\"football\"]:\n",
    "    print(\"I am in decide play node\")\n",
    "    if random.random()>0.5:\n",
    "        return \"cricket\"\n",
    "    else:\n",
    "        return \"football\"\n"
   ]
  },
  {
   "cell_type": "code",
   "execution_count": 29,
   "id": "5a309b5a",
   "metadata": {},
   "outputs": [
    {
     "name": "stdout",
     "output_type": "stream",
     "text": [
      "---\n",
      "config:\n",
      "  flowchart:\n",
      "    curve: linear\n",
      "---\n",
      "graph TD;\n",
      "\t__start__([<p>__start__</p>]):::first\n",
      "\tplaygame(playgame)\n",
      "\tcricket(cricket)\n",
      "\tfootball(football)\n",
      "\t__end__([<p>__end__</p>]):::last\n",
      "\t__start__ --> playgame;\n",
      "\tplaygame -.-> cricket;\n",
      "\tplaygame -.-> football;\n",
      "\tcricket --> __end__;\n",
      "\tfootball --> __end__;\n",
      "\tclassDef default fill:#f2f0ff,line-height:1.2\n",
      "\tclassDef first fill-opacity:0\n",
      "\tclassDef last fill:#bfb6fc\n",
      "\n"
     ]
    }
   ],
   "source": [
    "from IPython.display import display, Image\n",
    "from langgraph.graph import START,END,StateGraph\n",
    "\n",
    "graph=StateGraph(DataClassState)\n",
    "\n",
    "## Adding Nodes\n",
    "graph.add_node(\"playgame\",play_game)\n",
    "graph.add_node(\"cricket\",cricket)\n",
    "graph.add_node(\"football\",football)\n",
    "\n",
    "## Adding Edges\n",
    "graph.add_edge(START,\"playgame\")\n",
    "graph.add_conditional_edges(\"playgame\",decide_play)\n",
    "graph.add_edge(\"cricket\",END)\n",
    "graph.add_edge(\"football\",END)\n",
    "\n",
    "# Add\n",
    "graph_builder=graph.compile()\n",
    "\n",
    "# View\n",
    "#display(Image(graph_builder.get_graph().draw_mermaid_png()))\n",
    "\n",
    "print(graph_builder.get_graph().draw_mermaid())\n",
    "\n"
   ]
  },
  {
   "cell_type": "code",
   "execution_count": 33,
   "id": "357d20a8",
   "metadata": {},
   "outputs": [
    {
     "name": "stdout",
     "output_type": "stream",
     "text": [
      "I am in play game node\n",
      "I am in decide play node\n",
      "I am in cricket node\n"
     ]
    },
    {
     "data": {
      "text/plain": [
       "{'name': 'Anil want to play Cricket', 'game': 'Cricket'}"
      ]
     },
     "execution_count": 33,
     "metadata": {},
     "output_type": "execute_result"
    }
   ],
   "source": [
    "graph_builder.invoke(DataClassState(name='Anil',game=\"football\"))"
   ]
  }
 ],
 "metadata": {
  "kernelspec": {
   "display_name": "venv",
   "language": "python",
   "name": "python3"
  },
  "language_info": {
   "codemirror_mode": {
    "name": "ipython",
    "version": 3
   },
   "file_extension": ".py",
   "mimetype": "text/x-python",
   "name": "python",
   "nbconvert_exporter": "python",
   "pygments_lexer": "ipython3",
   "version": "3.12.0"
  }
 },
 "nbformat": 4,
 "nbformat_minor": 5
}
