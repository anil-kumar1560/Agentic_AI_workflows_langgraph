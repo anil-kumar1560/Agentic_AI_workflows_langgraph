{
 "cells": [
  {
   "cell_type": "code",
   "execution_count": 3,
   "id": "b615069f",
   "metadata": {},
   "outputs": [],
   "source": [
    "from dotenv import load_dotenv\n",
    "load_dotenv()\n",
    "\n",
    "import os\n",
    "os.environ[\"GROQ_API_KEY\"]=os.getenv(\"GROQ_API_KEY\")"
   ]
  },
  {
   "cell_type": "code",
   "execution_count": 4,
   "id": "5c527b48",
   "metadata": {},
   "outputs": [
    {
     "name": "stdout",
     "output_type": "stream",
     "text": [
      "==================================\u001b[1m Ai Message \u001b[0m==================================\n",
      "Name: AI Model\n",
      "\n",
      "How can I Help You?\n",
      "================================\u001b[1m Human Message \u001b[0m=================================\n",
      "Name: Anil\n",
      "\n",
      "I want to learn Coding\n",
      "==================================\u001b[1m Ai Message \u001b[0m==================================\n",
      "Name: AI Model\n",
      "\n",
      "Sure, Which Language do you want to learn?\n",
      "================================\u001b[1m Human Message \u001b[0m=================================\n",
      "Name: Anil\n",
      "\n",
      "I want to learn Python\n"
     ]
    }
   ],
   "source": [
    "from langchain_core.messages import AIMessage, HumanMessage\n",
    "from pprint import pprint\n",
    "\n",
    "messages=[AIMessage(content=f\"How can I Help You?\",name=\"AI Model\")]\n",
    "messages.append(HumanMessage(content=f\"I want to learn Coding\", name=\"Anil\"))\n",
    "messages.append(AIMessage(content=f\"Sure, Which Language do you want to learn?\",name=\"AI Model\"))\n",
    "messages.append(HumanMessage(content=f\"I want to learn Python\",name=\"Anil\"))\n",
    "\n",
    "\n",
    "for message in messages:\n",
    "    message.pretty_print()"
   ]
  },
  {
   "cell_type": "code",
   "execution_count": 5,
   "id": "879fc1a7",
   "metadata": {},
   "outputs": [],
   "source": [
    "## Chat Models\n",
    "\n",
    "from langchain_groq import ChatGroq\n",
    "\n",
    "groq_llm=ChatGroq(model=\"qwen/qwen3-32b\")\n",
    "\n",
    "result=groq_llm.invoke(messages)"
   ]
  },
  {
   "cell_type": "code",
   "execution_count": 6,
   "id": "e83ad9ee",
   "metadata": {},
   "outputs": [
    {
     "data": {
      "text/plain": [
       "{'token_usage': {'completion_tokens': 1272,\n",
       "  'prompt_tokens': 54,\n",
       "  'total_tokens': 1326,\n",
       "  'completion_time': 2.741746365,\n",
       "  'prompt_time': 0.002259805,\n",
       "  'queue_time': 0.225029171,\n",
       "  'total_time': 2.74400617},\n",
       " 'model_name': 'qwen/qwen3-32b',\n",
       " 'system_fingerprint': 'fp_5cf921caa2',\n",
       " 'service_tier': 'on_demand',\n",
       " 'finish_reason': 'stop',\n",
       " 'logprobs': None}"
      ]
     },
     "execution_count": 6,
     "metadata": {},
     "output_type": "execute_result"
    }
   ],
   "source": [
    "result.response_metadata"
   ]
  },
  {
   "cell_type": "markdown",
   "id": "b0bc99dd",
   "metadata": {},
   "source": [
    "## TOOLS"
   ]
  },
  {
   "cell_type": "code",
   "execution_count": 32,
   "id": "8c9bf393",
   "metadata": {},
   "outputs": [],
   "source": [
    "def add(a:int, b:int) -> int:\n",
    "    \"\"\"Adds two integers and returns the result.\"\"\"\n",
    "    return a+b"
   ]
  },
  {
   "cell_type": "code",
   "execution_count": 9,
   "id": "f07fe8a2",
   "metadata": {},
   "outputs": [],
   "source": [
    "## Binding tool with llm\n",
    "\n",
    "llm_with_tools=groq_llm.bind_tools([add])\n",
    "\n",
    "tool_call=llm_with_tools.invoke([HumanMessage(content=f\"What is 2 plus 2 \", name=\"Anil\")])"
   ]
  },
  {
   "cell_type": "code",
   "execution_count": 10,
   "id": "f4c0a448",
   "metadata": {},
   "outputs": [
    {
     "data": {
      "text/plain": [
       "[{'name': 'add',\n",
       "  'args': {'a': 2, 'b': 2},\n",
       "  'id': 'zbeweyrw3',\n",
       "  'type': 'tool_call'}]"
      ]
     },
     "execution_count": 10,
     "metadata": {},
     "output_type": "execute_result"
    }
   ],
   "source": [
    "tool_call.tool_calls"
   ]
  },
  {
   "cell_type": "markdown",
   "id": "26d33b45",
   "metadata": {},
   "source": [
    "### Using Messages as state"
   ]
  },
  {
   "cell_type": "code",
   "execution_count": 53,
   "id": "7286a14b",
   "metadata": {},
   "outputs": [],
   "source": [
    "from typing_extensions import TypedDict\n",
    "from langchain_core.messages import AnyMessage\n",
    "\n",
    "class State(TypedDict):\n",
    "    messages:list[AnyMessage]"
   ]
  },
  {
   "cell_type": "code",
   "execution_count": 54,
   "id": "b58e3782",
   "metadata": {},
   "outputs": [],
   "source": [
    "## We should use Reducers to append the messages\n",
    "from langgraph.graph.message import add_messages\n",
    "from typing import Annotated\n",
    "\n",
    "class State(TypedDict):\n",
    "    messages:Annotated[list[AnyMessage],add_messages]\n"
   ]
  },
  {
   "cell_type": "code",
   "execution_count": 45,
   "id": "cb63e363",
   "metadata": {},
   "outputs": [
    {
     "data": {
      "text/plain": [
       "[AIMessage(content='How can I Help You?', additional_kwargs={}, response_metadata={}, name='AI Model'),\n",
       " HumanMessage(content='I want to learn Coding', additional_kwargs={}, response_metadata={}, name='Anil')]"
      ]
     },
     "execution_count": 45,
     "metadata": {},
     "output_type": "execute_result"
    }
   ],
   "source": [
    "initial_messages=[AIMessage(content=f\"How can I Help You?\",name=\"AI Model\")]\n",
    "initial_messages.append(HumanMessage(content=f\"I want to learn Coding\", name=\"Anil\"))\n",
    "initial_messages"
   ]
  },
  {
   "cell_type": "code",
   "execution_count": 46,
   "id": "e9a9a90a",
   "metadata": {},
   "outputs": [
    {
     "data": {
      "text/plain": [
       "AIMessage(content='Sure, Which Language do you want to learn?', additional_kwargs={}, response_metadata={}, name='AI Model')"
      ]
     },
     "execution_count": 46,
     "metadata": {},
     "output_type": "execute_result"
    }
   ],
   "source": [
    "ai_message=AIMessage(content=f\"Sure, Which Language do you want to learn?\",name=\"AI Model\")\n",
    "ai_message"
   ]
  },
  {
   "cell_type": "code",
   "execution_count": 55,
   "id": "b73eded9",
   "metadata": {},
   "outputs": [
    {
     "data": {
      "text/plain": [
       "[AIMessage(content='How can I Help You?', additional_kwargs={}, response_metadata={}, name='AI Model', id='41734dd8-15f0-4706-80dd-6d0944517445'),\n",
       " HumanMessage(content='I want to learn Coding', additional_kwargs={}, response_metadata={}, name='Anil', id='8fb6090f-8d0c-431f-909f-086073827cbf'),\n",
       " AIMessage(content='Sure, Which Language do you want to learn?', additional_kwargs={}, response_metadata={}, name='AI Model', id='da6eed93-c204-49ce-ab05-3a5ffbde9afd')]"
      ]
     },
     "execution_count": 55,
     "metadata": {},
     "output_type": "execute_result"
    }
   ],
   "source": [
    "### Reducers add_messagesis to append instead of override\n",
    "add_messages(initial_messages,ai_message)"
   ]
  },
  {
   "cell_type": "code",
   "execution_count": 57,
   "id": "ba177a7c",
   "metadata": {},
   "outputs": [],
   "source": [
    "## chatbot node functionality \n",
    "\n",
    "def llm_tools(state:State):\n",
    "    return {\"messages\": [llm_with_tools.invoke(state[\"messages\"])]}"
   ]
  },
  {
   "cell_type": "code",
   "execution_count": 58,
   "id": "1dc0e6c1",
   "metadata": {},
   "outputs": [
    {
     "data": {
      "image/png": "[encoded data removed]",
      "text/plain": [
       "<IPython.core.display.Image object>"
      ]
     },
     "metadata": {},
     "output_type": "display_data"
    }
   ],
   "source": [
    "from IPython.display import Image,display\n",
    "from langgraph.graph import StateGraph, START, END\n",
    "builder=StateGraph(State)\n",
    "\n",
    "builder.add_node(\"llm_tools\", llm_tools)\n",
    "\n",
    "builder.add_edge(START,\"llm_tools\")\n",
    "builder.add_edge(\"llm_tools\",END)\n",
    "\n",
    "graph=builder.compile()\n",
    "\n",
    "display(Image(graph.get_graph().draw_mermaid_png()))\n",
    "\n"
   ]
  },
  {
   "cell_type": "code",
   "execution_count": 59,
   "id": "ec681e88",
   "metadata": {},
   "outputs": [
    {
     "name": "stdout",
     "output_type": "stream",
     "text": [
      "================================\u001b[1m Human Message \u001b[0m=================================\n",
      "\n",
      "What is 2 plus 2?\n",
      "==================================\u001b[1m Ai Message \u001b[0m==================================\n",
      "Tool Calls:\n",
      "  add (pgm1nf69b)\n",
      " Call ID: pgm1nf69b\n",
      "  Args:\n",
      "    a: 2\n",
      "    b: 2\n"
     ]
    }
   ],
   "source": [
    "## Invocation of the graph\n",
    "\n",
    "messages=graph.invoke({\"messages\":\"What is 2 plus 2?\"})\n",
    "\n",
    "for message in messages['messages']:\n",
    "    message.pretty_print()"
   ]
  },
  {
   "cell_type": "code",
   "execution_count": 60,
   "id": "ada89abb",
   "metadata": {},
   "outputs": [],
   "source": [
    "tools=[add]"
   ]
  },
  {
   "cell_type": "code",
   "execution_count": 61,
   "id": "4b1534af",
   "metadata": {},
   "outputs": [
    {
     "data": {
      "image/png": "[encoded data removed]",
      "text/plain": [
       "<IPython.core.display.Image object>"
      ]
     },
     "metadata": {},
     "output_type": "display_data"
    }
   ],
   "source": [
    "from langgraph.prebuilt import ToolNode\n",
    "from langgraph.prebuilt import tools_condition\n",
    "\n",
    "builder=StateGraph(State)\n",
    "\n",
    "builder.add_node(\"llm_tools\",llm_tools)\n",
    "builder.add_node(\"tools\",ToolNode(tools))\n",
    "\n",
    "builder.add_edge(START,\"llm_tools\")\n",
    "builder.add_conditional_edges(\n",
    "                    \"llm_tools\",\n",
    "                    # if the latest message (result) from assistant is a tool call -> tools_condition routes to tools\n",
    "                    # if the latest message (result) from assistant is not a tool call -> tools_condition routes to END\n",
    "                    tools_condition)\n",
    "\n",
    "builder.add_edge(\"tools\",END)\n",
    "\n",
    "graph1=builder.compile()\n",
    "\n",
    "display(Image(graph.get_graph().draw_mermaid_png()))"
   ]
  },
  {
   "cell_type": "code",
   "execution_count": 63,
   "id": "eca2d58a",
   "metadata": {},
   "outputs": [
    {
     "name": "stdout",
     "output_type": "stream",
     "text": [
      "================================\u001b[1m Human Message \u001b[0m=================================\n",
      "\n",
      "What is 2 plus 2?\n",
      "==================================\u001b[1m Ai Message \u001b[0m==================================\n",
      "Tool Calls:\n",
      "  add (bwdm5zaah)\n",
      " Call ID: bwdm5zaah\n",
      "  Args:\n",
      "    a: 2\n",
      "    b: 2\n",
      "=================================\u001b[1m Tool Message \u001b[0m=================================\n",
      "Name: add\n",
      "\n",
      "4\n"
     ]
    }
   ],
   "source": [
    "## Invocation of the graph\n",
    "\n",
    "messages=graph1.invoke({\"messages\":\"What is 2 plus 2?\"})\n",
    "\n",
    "for message in messages['messages']:\n",
    "    message.pretty_print()"
   ]
  },
  {
   "cell_type": "code",
   "execution_count": 64,
   "id": "b3df2b1f",
   "metadata": {},
   "outputs": [
    {
     "name": "stdout",
     "output_type": "stream",
     "text": [
      "================================\u001b[1m Human Message \u001b[0m=================================\n",
      "\n",
      "What is langgraph?\n",
      "==================================\u001b[1m Ai Message \u001b[0m==================================\n",
      "\n",
      "The term \"langgraph\" does not appear to be related to the available tools I have access to, which currently only include a basic \"add\" function for integer arithmetic. If you're asking about a specific library, framework, or concept related to language processing or graph structures, I don't have the capability to provide information beyond the tools listed. Could you clarify your question or check if there's a different way I might assist?\n"
     ]
    }
   ],
   "source": [
    "\n",
    "messages=graph1.invoke({\"messages\":\"What is langgraph?\"})\n",
    "\n",
    "for message in messages['messages']:\n",
    "    message.pretty_print()"
   ]
  }
 ],
 "metadata": {
  "kernelspec": {
   "display_name": "venv",
   "language": "python",
   "name": "python3"
  },
  "language_info": {
   "codemirror_mode": {
    "name": "ipython",
    "version": 3
   },
   "file_extension": ".py",
   "mimetype": "text/x-python",
   "name": "python",
   "nbconvert_exporter": "python",
   "pygments_lexer": "ipython3",
   "version": "3.12.0"
  }
 },
 "nbformat": 4,
 "nbformat_minor": 5
}
