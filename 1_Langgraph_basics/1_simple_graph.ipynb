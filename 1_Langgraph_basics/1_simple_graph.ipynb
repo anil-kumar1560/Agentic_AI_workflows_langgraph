{
 "cells": [
  {
   "cell_type": "code",
   "execution_count": 1,
   "id": "10b920cb",
   "metadata": {},
   "outputs": [],
   "source": [
    "from typing_extensions import TypedDict\n",
    "class State(TypedDict):\n",
    "    graph_info:str"
   ]
  },
  {
   "cell_type": "code",
   "execution_count": 2,
   "id": "a11cf0bc",
   "metadata": {},
   "outputs": [],
   "source": [
    "def start_play(state:State):\n",
    "    print(\"start_play node has been called\")\n",
    "    return {\"graph_info\":state['graph_info']+\"I am planning to play\"}\n",
    "\n",
    "def cricket(state:State):\n",
    "    print(\"cricket node has been called\")\n",
    "    return {\"graph_info\":state['graph_info']+\" cricket\"}\n",
    "\n",
    "def football(state:State):\n",
    "    print(\"Football node has been called\")\n",
    "    return {\"graph_info\":state['graph_info']+\" FootBall\"}"
   ]
  },
  {
   "cell_type": "code",
   "execution_count": 3,
   "id": "426e6a50",
   "metadata": {},
   "outputs": [],
   "source": [
    "import random\n",
    "from typing import Literal\n",
    "\n",
    "def random_play(state:State) -> Literal['cricket','football']:\n",
    "    graph_info=state['graph_info']\n",
    "\n",
    "    if random.random()>0.5:\n",
    "        return \"cricket\"\n",
    "    else:\n",
    "        return \"football\""
   ]
  },
  {
   "cell_type": "code",
   "execution_count": 6,
   "id": "e43a16a7",
   "metadata": {},
   "outputs": [
    {
     "data": {
      "image/png": "[encoded data removed]",
      "text/plain": [
       "<IPython.core.display.Image object>"
      ]
     },
     "metadata": {},
     "output_type": "display_data"
    }
   ],
   "source": [
    "from IPython.display import Image,display\n",
    "from langgraph.graph import StateGraph,START, END\n",
    "\n",
    "## Build Graph\n",
    "graph=StateGraph(State)\n",
    "\n",
    "## Adding the nodes\n",
    "graph.add_node(\"start_play\",start_play)\n",
    "graph.add_node(\"cricket\",cricket)\n",
    "graph.add_node(\"football\",football)\n",
    "\n",
    "## Adding the edges\n",
    "graph.add_edge(START,\"start_play\")\n",
    "graph.add_conditional_edges(\"start_play\",random_play)\n",
    "graph.add_edge(\"cricket\",END)\n",
    "graph.add_edge(\"football\",END)\n",
    "\n",
    "## compile the graph\n",
    "graph_builder=graph.compile()\n",
    "\n",
    "## Visualize the graph\n",
    "display(Image(graph_builder.get_graph().draw_mermaid_png()))"
   ]
  },
  {
   "cell_type": "code",
   "execution_count": 18,
   "id": "d556c18d",
   "metadata": {},
   "outputs": [
    {
     "name": "stdout",
     "output_type": "stream",
     "text": [
      "start_play node has been called\n",
      "cricket node has been called\n"
     ]
    },
    {
     "data": {
      "text/plain": [
       "{'graph_info': 'Hi my name is Anil. I am planning to play cricket'}"
      ]
     },
     "execution_count": 18,
     "metadata": {},
     "output_type": "execute_result"
    }
   ],
   "source": [
    "graph_builder.invoke({\"graph_info\":\"Hi my name is Anil. \"})"
   ]
  }
 ],
 "metadata": {
  "kernelspec": {
   "display_name": "venv",
   "language": "python",
   "name": "python3"
  },
  "language_info": {
   "codemirror_mode": {
    "name": "ipython",
    "version": 3
   },
   "file_extension": ".py",
   "mimetype": "text/x-python",
   "name": "python",
   "nbconvert_exporter": "python",
   "pygments_lexer": "ipython3",
   "version": "3.12.0"
  }
 },
 "nbformat": 4,
 "nbformat_minor": 5
}
