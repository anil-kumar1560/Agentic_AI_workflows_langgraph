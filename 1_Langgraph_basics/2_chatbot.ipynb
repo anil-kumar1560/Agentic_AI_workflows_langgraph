{
 "cells": [
  {
   "cell_type": "code",
   "execution_count": 1,
   "id": "ed182a30",
   "metadata": {},
   "outputs": [],
   "source": [
    "from typing_extensions import TypedDict\n",
    "\n",
    "from langgraph.graph import StateGraph, START, END\n",
    "\n",
    "## Reducers\n",
    "\n",
    "from typing import Annotated\n",
    "from langgraph.graph.message import add_messages\n"
   ]
  },
  {
   "cell_type": "code",
   "execution_count": 2,
   "id": "ebd749d7",
   "metadata": {},
   "outputs": [],
   "source": [
    "class State(TypedDict):\n",
    "    messages:Annotated[list,add_messages]"
   ]
  },
  {
   "cell_type": "code",
   "execution_count": 3,
   "id": "6d9db8e6",
   "metadata": {},
   "outputs": [],
   "source": [
    "import os\n",
    "from dotenv import load_dotenv\n",
    "load_dotenv()\n",
    "\n",
    "os.environ[\"OPENAI_API_KEY\"]=os.getenv(\"OPENAI_API_KEY\")\n",
    "os.environ[\"GROQ_API_KEY\"]=os.getenv(\"GROQ_API_KEY\")\n",
    "\n"
   ]
  },
  {
   "cell_type": "code",
   "execution_count": 4,
   "id": "a51b32c9",
   "metadata": {},
   "outputs": [
    {
     "data": {
      "text/plain": [
       "AIMessage(content='Hello! How can I assist you today?', additional_kwargs={'refusal': None}, response_metadata={'token_usage': {'completion_tokens': 9, 'prompt_tokens': 8, 'total_tokens': 17, 'completion_tokens_details': {'accepted_prediction_tokens': 0, 'audio_tokens': 0, 'reasoning_tokens': 0, 'rejected_prediction_tokens': 0}, 'prompt_tokens_details': {'audio_tokens': 0, 'cached_tokens': 0}}, 'model_name': 'gpt-4o-2024-08-06', 'system_fingerprint': 'fp_f33640a400', 'id': 'chatcmpl-CLc0aLxPSzCoSN4JEF8U6ObY2lvMF', 'service_tier': 'default', 'finish_reason': 'stop', 'logprobs': None}, id='run--de9f4606-e5a1-4d2c-a1e4-1232afa5ded6-0', usage_metadata={'input_tokens': 8, 'output_tokens': 9, 'total_tokens': 17, 'input_token_details': {'audio': 0, 'cache_read': 0}, 'output_token_details': {'audio': 0, 'reasoning': 0}})"
      ]
     },
     "execution_count": 4,
     "metadata": {},
     "output_type": "execute_result"
    }
   ],
   "source": [
    "from langchain_openai import ChatOpenAI\n",
    "llm=ChatOpenAI(model=\"gpt-4o\")\n",
    "llm.invoke(\"Hello\")"
   ]
  },
  {
   "cell_type": "code",
   "execution_count": 9,
   "id": "0b212d37",
   "metadata": {},
   "outputs": [
    {
     "data": {
      "text/plain": [
       "AIMessage(content='<think>\\nOkay, the user sent \"Hi qwen how r u\", which is a casual greeting. First, I need to respond in a friendly and approachable manner. Since it\\'s a simple question, I should keep the reply light and not too formal.\\n\\nThe user might be starting a conversation or testing if I\\'m online. My response should encourage further interaction. Maybe ask how they\\'re doing in return. Also, offer assistance in case they have questions or need help. Make sure to keep the tone cheerful and welcoming. Let me put that together in a natural way without any markdown. Just a simple, warm reply.\\n</think>\\n\\nHi there! 😊 I\\'m doing great, thanks for asking! How are you feeling today? If you have any questions or need help with anything, feel free to let me know - I\\'m here to chat and assist! 🌟', additional_kwargs={}, response_metadata={'token_usage': {'completion_tokens': 178, 'prompt_tokens': 14, 'total_tokens': 192, 'completion_time': 0.399318889, 'prompt_time': 0.000336796, 'queue_time': 0.203388178, 'total_time': 0.399655685}, 'model_name': 'qwen/qwen3-32b', 'system_fingerprint': 'fp_5cf921caa2', 'service_tier': 'on_demand', 'finish_reason': 'stop', 'logprobs': None}, id='run--88020472-5029-4420-8802-c87336fe033d-0', usage_metadata={'input_tokens': 14, 'output_tokens': 178, 'total_tokens': 192})"
      ]
     },
     "execution_count": 9,
     "metadata": {},
     "output_type": "execute_result"
    }
   ],
   "source": [
    "from langchain_groq import ChatGroq\n",
    "\n",
    "groq_llm=ChatGroq(model=\"qwen/qwen3-32b\")\n",
    "\n",
    "groq_llm.invoke(\"Hi qwen how r u\")"
   ]
  },
  {
   "cell_type": "code",
   "execution_count": 25,
   "id": "f08bdfd2",
   "metadata": {},
   "outputs": [],
   "source": [
    "## creating nodes\n",
    "def chatbot(state:State):\n",
    "    return {\"messages\":[groq_llm.invoke(state[\"messages\"])]}\n"
   ]
  },
  {
   "cell_type": "code",
   "execution_count": 26,
   "id": "9ec33602",
   "metadata": {},
   "outputs": [
    {
     "data": {
      "image/png": "[encoded data removed]",
      "text/plain": [
       "<IPython.core.display.Image object>"
      ]
     },
     "metadata": {},
     "output_type": "display_data"
    }
   ],
   "source": [
    "graph=StateGraph(State)\n",
    "\n",
    "## Adding nodes\n",
    "graph.add_node(\"chatbot\",chatbot)\n",
    "\n",
    "## adding edges\n",
    "graph.add_edge(START,\"chatbot\")\n",
    "graph.add_edge(\"chatbot\",END)\n",
    "\n",
    "graph_builder=graph.compile()\n",
    "\n",
    "## Display\n",
    "from IPython.display import display, Image\n",
    "display(Image(graph_builder.get_graph().draw_mermaid_png()))"
   ]
  },
  {
   "cell_type": "code",
   "execution_count": 27,
   "id": "25b7c554",
   "metadata": {},
   "outputs": [
    {
     "data": {
      "text/plain": [
       "{'messages': [HumanMessage(content=' Hello, who are you?', additional_kwargs={}, response_metadata={}, id='7f6423bd-10ab-4d87-8b43-3e888ca28504'),\n",
       "  AIMessage(content=\"<think>\\nOkay, the user is asking me who I am. Let me start by introducing my name, Qwen. Then I should mention my capabilities, like answering questions, creating text such as stories, official documents, emails, scripts, and more. I can also express opinions, play games, and support multiple languages. It's important to highlight that I'm developed by Alibaba Cloud's Tongyi Lab.\\n\\nI need to keep the response friendly and conversational, avoiding any markdown formatting. Also, since the user might be new, I should keep it simple and not overload with information. Maybe end with an invitation for them to ask anything they need help with. Let me check the guidelines to ensure I'm not missing anything. Alright, that should cover it.\\n</think>\\n\\nHello! I'm Qwen, a large language model developed by Alibaba Cloud's Tongyi Lab. I can help with answering questions, writing stories, official documents, emails, scripts, and more. I can also express opinions, play games, and support multiple languages. How can I assist you today? Feel free to ask anything! 😊\", additional_kwargs={}, response_metadata={'token_usage': {'completion_tokens': 225, 'prompt_tokens': 14, 'total_tokens': 239, 'completion_time': 0.505073908, 'prompt_time': 0.000369345, 'queue_time': 0.20341922, 'total_time': 0.505443253}, 'model_name': 'qwen/qwen3-32b', 'system_fingerprint': 'fp_5cf921caa2', 'service_tier': 'on_demand', 'finish_reason': 'stop', 'logprobs': None}, id='run--f802d0cd-c643-4123-80f6-9c4495d64a9c-0', usage_metadata={'input_tokens': 14, 'output_tokens': 225, 'total_tokens': 239})]}"
      ]
     },
     "execution_count": 27,
     "metadata": {},
     "output_type": "execute_result"
    }
   ],
   "source": [
    "graph_builder.invoke({'messages':\" Hello, who are you?\"}) \n",
    "\n"
   ]
  },
  {
   "cell_type": "code",
   "execution_count": 29,
   "id": "1eb62631",
   "metadata": {},
   "outputs": [
    {
     "name": "stdout",
     "output_type": "stream",
     "text": [
      "{'chatbot': {'messages': [AIMessage(content='<think>\\nOkay, the user wrote \"hello hi how r u?\" which is pretty casual and friendly. They might be greeting me and checking in on my status. I should respond in a warm and welcoming way. Let me make sure to acknowledge their greeting and offer assistance. I need to keep it simple and conversational. Maybe add an emoji to keep it friendly. Also, since they used \"how r u?\" which is a bit informal, I should mirror that informality but stay polite. Alright, something like \"Hi there! I\\'m doing well, thanks for asking. How can I help you today? 😊\" That should work.\\n</think>\\n\\nHi there! I\\'m doing well, thanks for asking. How can I help you today? 😊', additional_kwargs={}, response_metadata={'token_usage': {'completion_tokens': 155, 'prompt_tokens': 14, 'total_tokens': 169, 'completion_time': 0.292839761, 'prompt_time': 0.000593671, 'queue_time': 0.217872398, 'total_time': 0.293433432}, 'model_name': 'qwen/qwen3-32b', 'system_fingerprint': 'fp_5cf921caa2', 'service_tier': 'on_demand', 'finish_reason': 'stop', 'logprobs': None}, id='run--0416e413-4da9-4c22-b80c-bd2e73ba1e63-0', usage_metadata={'input_tokens': 14, 'output_tokens': 155, 'total_tokens': 169})]}}\n"
     ]
    }
   ],
   "source": [
    "## Streaming the responses\n",
    "\n",
    "for event in graph_builder.stream({'messages':\"hello hi how r u?\"}):\n",
    "    print(event)\n",
    "\n"
   ]
  }
 ],
 "metadata": {
  "kernelspec": {
   "display_name": "venv",
   "language": "python",
   "name": "python3"
  },
  "language_info": {
   "codemirror_mode": {
    "name": "ipython",
    "version": 3
   },
   "file_extension": ".py",
   "mimetype": "text/x-python",
   "name": "python",
   "nbconvert_exporter": "python",
   "pygments_lexer": "ipython3",
   "version": "3.12.0"
  }
 },
 "nbformat": 4,
 "nbformat_minor": 5
}
