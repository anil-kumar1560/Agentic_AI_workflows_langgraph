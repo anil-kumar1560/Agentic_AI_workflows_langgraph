{
 "cells": [
  {
   "cell_type": "code",
   "execution_count": 1,
   "id": "ca978f39",
   "metadata": {},
   "outputs": [],
   "source": [
    "from langchain_community.tools import ArxivQueryRun, WikipediaQueryRun\n",
    "from langchain_community.utilities import WikipediaAPIWrapper, ArxivAPIWrapper"
   ]
  },
  {
   "cell_type": "code",
   "execution_count": 2,
   "id": "8de05956",
   "metadata": {},
   "outputs": [],
   "source": [
    "api_wrapper_arxiv = ArxivAPIWrapper(top_k_results=2,doc_content_chars_max=500)\n",
    "arxiv = ArxivQueryRun(api_wrapper=api_wrapper_arxiv)"
   ]
  },
  {
   "cell_type": "code",
   "execution_count": 3,
   "id": "143cea42",
   "metadata": {},
   "outputs": [
    {
     "data": {
      "text/plain": [
       "\"Published: 2024-07-22\\nTitle: Attention Is All You Need But You Don't Need All Of It For Inference of Large Language Models\\nAuthors: Georgy Tyukin, Gbetondji J-S Dovonon, Jean Kaddour, Pasquale Minervini\\nSummary: The inference demand for LLMs has skyrocketed in recent months, and serving\\nmodels with low latencies remains challenging due to the quadratic input length\\ncomplexity of the attention layers. In this work, we investigate the effect of\\ndropping MLP and attention layers at inference time o\""
      ]
     },
     "execution_count": 3,
     "metadata": {},
     "output_type": "execute_result"
    }
   ],
   "source": [
    "arxiv.invoke(\"attention is all you need\")"
   ]
  },
  {
   "cell_type": "code",
   "execution_count": 4,
   "id": "8305be10",
   "metadata": {},
   "outputs": [],
   "source": [
    "api_wrapper_wiki = WikipediaAPIWrapper(top_k_results=2,doc_content_chars_max=500)\n",
    "wiki = WikipediaQueryRun(api_wrapper=api_wrapper_wiki)"
   ]
  },
  {
   "cell_type": "code",
   "execution_count": 5,
   "id": "c1cc96f3",
   "metadata": {},
   "outputs": [
    {
     "data": {
      "text/plain": [
       "'Page: Machine learning\\nSummary: Machine learning (ML) is a field of study in artificial intelligence concerned with the development and study of statistical algorithms that can learn from data and generalise to unseen data, and thus perform tasks without explicit instructions. Within a subdiscipline in machine learning, advances in the field of deep learning have allowed neural networks, a class of statistical algorithms, to surpass many previous machine learning approaches in performance.\\nML fi'"
      ]
     },
     "execution_count": 5,
     "metadata": {},
     "output_type": "execute_result"
    }
   ],
   "source": [
    "wiki.invoke(\"What is machine learning?\")"
   ]
  },
  {
   "cell_type": "code",
   "execution_count": 6,
   "id": "ece8a72a",
   "metadata": {},
   "outputs": [],
   "source": [
    "from dotenv import load_dotenv\n",
    "load_dotenv()  # take environment variables from .env.\n",
    "\n",
    "import os\n",
    "\n",
    "os.environ[\"TAVILY_API_KEY\"]=os.getenv(\"TAVILY_API_KEY\")\n",
    "os.environ[\"Groq_API_KEY\"]=os.getenv(\"Groq_API_Key\")\n",
    "os.environ[\"LANGCHAIN_API_KEY\"]=os.getenv(\"Langchain_API_KEY\")\n",
    "os.environ[\"LANGCHAIN_TRACING_V2\"]=\"true\"\n",
    "os.environ[\"LANGCHAIN_PROJECT\"]=\"ReAct-Agent\""
   ]
  },
  {
   "cell_type": "code",
   "execution_count": 7,
   "id": "7fa47a2d",
   "metadata": {},
   "outputs": [],
   "source": [
    "def multiply(a: int, b: int) -> int:\n",
    "    \"\"\"Multiply two numbers.\"\"\"\n",
    "    return a * b\n",
    "\n",
    "def add(a: int, b: int) -> int:\n",
    "    \"\"\"Add two numbers.\"\"\"\n",
    "    return a + b\n",
    "\n",
    "def divide(a: int, b: int) -> float:\n",
    "    \"\"\"Divide two numbers.\"\"\"\n",
    "    if b == 0:\n",
    "        raise ValueError(\"Cannot divide by zero.\")\n",
    "    return a / b"
   ]
  },
  {
   "cell_type": "code",
   "execution_count": null,
   "id": "71dad756",
   "metadata": {},
   "outputs": [],
   "source": [
    "tools=[arxiv,wiki,multiply,add,divide,tavily]"
   ]
  },
  {
   "cell_type": "code",
   "execution_count": null,
   "id": "29fb2629",
   "metadata": {},
   "outputs": [],
   "source": []
  },
  {
   "cell_type": "code",
   "execution_count": 9,
   "id": "79c1f56b",
   "metadata": {},
   "outputs": [
    {
     "name": "stderr",
     "output_type": "stream",
     "text": [
      "C:\\Users\\gakum\\AppData\\Local\\Temp\\ipykernel_2524\\808923814.py:3: LangChainDeprecationWarning: The class `TavilySearchResults` was deprecated in LangChain 0.3.25 and will be removed in 1.0. An updated version of the class exists in the :class:`~langchain-tavily package and should be used instead. To use it run `pip install -U :class:`~langchain-tavily` and import as `from :class:`~langchain_tavily import TavilySearch``.\n",
      "  tavily= TavilySearchResults()\n"
     ]
    }
   ],
   "source": [
    "from langchain_community.tools.tavily_search import TavilySearchResults\n",
    "\n",
    "tavily= TavilySearchResults()\n"
   ]
  },
  {
   "cell_type": "code",
   "execution_count": 10,
   "id": "604886d7",
   "metadata": {},
   "outputs": [
    {
     "data": {
      "text/plain": [
       "[{'title': 'DOE Explains...Machine Learning',\n",
       "  'url': 'https://www.energy.gov/science/doe-explainsmachine-learning',\n",
       "  'content': 'Image courtesy of Argonne National Laboratory \\n\\nMachine learning is the process of using computers to detect patterns in massive datasets and then make predictions based on what the computer learns from those patterns. This makes machine learning a specific and narrow type of artificial intelligence. Full artificial intelligence involves machines that can perform abilities we associate with the minds of human beings and intelligent animals, such as perceiving, learning, and problem solving. [...] All machine learning is based on algorithms. In general, algorithms are sets of specific instructions that a computer uses to solve problems. In machine learning, algorithms are rules for how to analyze data using statistics. Machine learning systems use these rules to identify relationships between data inputs and desired outputs–usually predictions. To get started, scientists give machine learning systems a set of training data. The systems apply their algorithms to this data to train',\n",
       "  'score': 0.7734393},\n",
       " {'title': 'Machine learning',\n",
       "  'url': 'https://en.wikipedia.org/wiki/Machine_learning',\n",
       "  'content': 'Machine learning (ML) is a field of study in artificial intelligence concerned with the development and study of statistical algorithms that can learn from data and generalise to unseen data, and thus perform tasks \"Task (computing)\") without explicit instructions.( Within a subdiscipline in machine learning, advances in the field of deep learning have allowed neural networks \"Neural network (machine learning)\"), a class of statistical algorithms, to surpass many previous machine learning [...] ML finds application in many fields, including natural language processing, computer vision, speech recognition, email filtering, agriculture, and medicine. The application of ML to business problems is known as predictive analytics.\\n\\nStatistics and mathematical optimisation (mathematical programming) methods comprise the foundations of machine learning. Data mining is a related field of study, focusing on exploratory data analysis (EDA) via unsupervised learning.(',\n",
       "  'score': 0.7482976},\n",
       " {'title': 'What is Machine Learning? Types and uses',\n",
       "  'url': 'https://cloud.google.com/learn/what-is-machine-learning',\n",
       "  'content': 'Whereas artificial intelligence is a broad category of computer science,machine learning is an application of AI that involves training machines to execute a task without being specifically programmed for it. Machine learning is more explicitly used as a means to extract knowledge from data through techniques such as neural networks, supervised and unsupervised learning, decision trees, and linear regression. [...] How does machine learning work?\\n\\nMachine learning works by training algorithms on sets of data to achieve an expected outcome such as identifying a pattern or recognizing an object. Machine learning is the process of optimizing the model so that it can predict the correct response based on the training data samples. [...] Today’s enterprises are inundated with data, and making sense of it can greatly help businesses make better decisions. But the sheer volume coupled with complexity often makes data difficult to analyze using traditional tools. Building, testing, iterating, and deploying analytical models for identifying patterns and insights in data eats up employees’ time in a way that scales poorly. Machine learning can enable an organization to derive insights quickly as data scales.',\n",
       "  'score': 0.72325134},\n",
       " {'title': '10 Machine Learning Applications',\n",
       "  'url': 'https://www.coursera.org/articles/machine-learning-applications',\n",
       "  'content': \"Machine learning is a subfield of artificial intelligence (AI) that uses models created from algorithms trained on data sets to perform relatively complex tasks that traditionally could only be performed by humans, such as making predictions or categorizing information. As a result, machine learning is one of the most ubiquitous forms of AI used today and accounts for many of the recent advances in the goods and services that people use every day. [...] Machine learning is a subset of AI that is used to power many of the modern world's conveniences and technology, including recommendation engines, fraud detection, and translation software.\\n\\n Machine learning is used across industries, such as finance, tech, media, and medicine.\\n\\n As AI technology becomes more ingrained in our daily lives, learning how it works and is used can help you better understand how to leverage it. [...] Whether you’re driving a car, kneading dough, or going for a long run, it’s sometimes easier to operate a smart device with your voice than to stop and use your hands to input commands. Machine learning makes it possible for many smart devices to recognize speech so users can complete tasks without touching them, such as calling a friend, setting a timer, or searching for a specific show on a streaming service.\",\n",
       "  'score': 0.7161595},\n",
       " {'title': 'Top 10 Machine Learning Applications and Examples in ...',\n",
       "  'url': 'https://www.simplilearn.com/tutorials/machine-learning-tutorial/machine-learning-applications',\n",
       "  'content': 'Machine learning is an umbrella term for a set of techniques and tools that help computers learn and adapt on their own. Machine learning algorithms help AI learn without being explicitly programmed to perform the desired action. By learning a pattern from sample inputs, the machine learning algorithm predicts and performs tasks solely based on the learned pattern and not a predefined program instruction. Machine learning is a life savior in several cases where applying strict algorithms is not [...] Machine learning is the latest buzzword sweeping across the global business landscape. It has captured the popular imagination, conjuring up visions of futuristic self-learning AI and robots. In different industries, machine learning has paved the way for technological accomplishments and tools that would have been impossible a few years ago. From prediction engines to online TV live streaming, it powers the breakthrough innovations that support our modern lifestyles.',\n",
       "  'score': 0.6999322}]"
      ]
     },
     "execution_count": 10,
     "metadata": {},
     "output_type": "execute_result"
    }
   ],
   "source": [
    "tavily.invoke(\"Tell me about machine learning\")"
   ]
  },
  {
   "cell_type": "code",
   "execution_count": 11,
   "id": "56fbd40e",
   "metadata": {},
   "outputs": [],
   "source": [
    "tools=[arxiv,wiki,multiply,add,divide,tavily]"
   ]
  },
  {
   "cell_type": "code",
   "execution_count": 12,
   "id": "b08dfd2a",
   "metadata": {},
   "outputs": [],
   "source": [
    "from langchain_groq import ChatGroq\n",
    "\n",
    "groq_llm=ChatGroq(model=\"qwen/qwen3-32b\")\n",
    "\n",
    "llm_with_tools=groq_llm.bind_tools(tools)"
   ]
  },
  {
   "cell_type": "code",
   "execution_count": 13,
   "id": "21427240",
   "metadata": {},
   "outputs": [
    {
     "data": {
      "text/plain": [
       "AIMessage(content='', additional_kwargs={'reasoning_content': 'Okay, the user is asking about the \"Attention is All You Need\" research paper. Let me recall what that paper is about. I think it introduced the Transformer model, which is a big deal in machine learning, especially for natural language processing. The key innovation was the self-attention mechanism, right? So first, I should confirm the details of the paper.\\n\\nWait, the user might want information on what the paper proposed, why it\\'s important, and its impact. Since the paper is on arXiv, maybe I should use the arXiv tool to get the details. The title is \"Attention Is All You Need\" by Vaswani et al., published in 2017. But to be thorough, I should look it up to make sure I get the correct information.\\n\\nLet me use the arXiv function to search for the paper. The query should be the exact title or the authors\\' names. Let me input \"Attention Is All You Need\" into the arXiv tool. Once I get the results, I can extract the relevant information like the abstract, authors, publication date, and key contributions. That way, I can provide an accurate summary to the user.\\n', 'tool_calls': [{'id': '3pmjfhxh3', 'function': {'arguments': '{\"query\":\"Attention Is All You Need\"}', 'name': 'arxiv'}, 'type': 'function'}]}, response_metadata={'token_usage': {'completion_tokens': 273, 'prompt_tokens': 599, 'total_tokens': 872, 'completion_time': 0.620612271, 'prompt_time': 0.027787135, 'queue_time': 0.203120925, 'total_time': 0.648399406}, 'model_name': 'qwen/qwen3-32b', 'system_fingerprint': 'fp_5cf921caa2', 'service_tier': 'on_demand', 'finish_reason': 'tool_calls', 'logprobs': None}, id='run--b63977bd-459a-420e-88e6-303a4429be09-0', tool_calls=[{'name': 'arxiv', 'args': {'query': 'Attention Is All You Need'}, 'id': '3pmjfhxh3', 'type': 'tool_call'}], usage_metadata={'input_tokens': 599, 'output_tokens': 273, 'total_tokens': 872})"
      ]
     },
     "execution_count": 13,
     "metadata": {},
     "output_type": "execute_result"
    }
   ],
   "source": [
    "from pprint import pprint\n",
    "from langchain_core.messages import AIMessage, HumanMessage\n",
    "llm_with_tools.invoke([HumanMessage(content=\"tell me about attentions is all you need reasearch paper\")])"
   ]
  },
  {
   "cell_type": "code",
   "execution_count": 14,
   "id": "eea7e31b",
   "metadata": {},
   "outputs": [
    {
     "data": {
      "text/plain": [
       "AIMessage(content='', additional_kwargs={'reasoning_content': \"Okay, let's see. The user wants me to add 5 and 6 first. That's straightforward. 5 plus 6 is 11. Then they want me to multiply that result by 10. So 11 times 10 is 110. Next step is to divide that by 4. Hmm, 110 divided by 4. Let me check if I have a function for division. Yes, there's a divide function. So I need to call each operation step by step.\\n\\nWait, the tools provided include add, multiply, divide. So first, use add with 5 and 6. Then take the result and multiply by 10. Then take that result and divide by 4. Each step needs a separate function call. Let me make sure the parameters are integers. All numbers here are integers, so that's fine. Let's start with the add function.\\n\", 'tool_calls': [{'id': 'kag5qwhbs', 'function': {'arguments': '{\"a\":5,\"b\":6}', 'name': 'add'}, 'type': 'function'}]}, response_metadata={'token_usage': {'completion_tokens': 221, 'prompt_tokens': 607, 'total_tokens': 828, 'completion_time': 0.415477334, 'prompt_time': 0.028300426, 'queue_time': 0.2024719, 'total_time': 0.44377776}, 'model_name': 'qwen/qwen3-32b', 'system_fingerprint': 'fp_5cf921caa2', 'service_tier': 'on_demand', 'finish_reason': 'tool_calls', 'logprobs': None}, id='run--4c4f6227-39df-4e33-aadb-62614e94b530-0', tool_calls=[{'name': 'add', 'args': {'a': 5, 'b': 6}, 'id': 'kag5qwhbs', 'type': 'tool_call'}], usage_metadata={'input_tokens': 607, 'output_tokens': 221, 'total_tokens': 828})"
      ]
     },
     "execution_count": 14,
     "metadata": {},
     "output_type": "execute_result"
    }
   ],
   "source": [
    "llm_with_tools.invoke([HumanMessage(content=\"addd 5 and 6 then multiply with 10 and divide the value by 4 \")])"
   ]
  },
  {
   "cell_type": "code",
   "execution_count": 15,
   "id": "b17bef45",
   "metadata": {},
   "outputs": [],
   "source": [
    "## State Schema\n",
    "from typing_extensions import TypedDict\n",
    "from langchain_core.messages import AnyMessage\n",
    "from typing import Annotated\n",
    "from langgraph.graph.message import add_messages\n",
    "\n",
    "class State(TypedDict):\n",
    "    messages:Annotated[list[AnyMessage],add_messages]"
   ]
  },
  {
   "cell_type": "code",
   "execution_count": 16,
   "id": "ccc68912",
   "metadata": {},
   "outputs": [
    {
     "data": {
      "image/png": "[encoded data removed]",
      "text/plain": [
       "<IPython.core.display.Image object>"
      ]
     },
     "metadata": {},
     "output_type": "display_data"
    }
   ],
   "source": [
    "### Entire chatbot with LangGraph\n",
    "from IPython.display import Image,display\n",
    "from langgraph.graph import StateGraph, START, END\n",
    "from langgraph.prebuilt import ToolNode, tools_condition\n",
    "\n",
    "\n",
    "## Node Defintion\n",
    "def tool_calling_llm(state:State):\n",
    "    return {\"messages\":llm_with_tools.invoke(state[\"messages\"])}\n",
    "\n",
    "##Build Graph\n",
    "graph=StateGraph(State)\n",
    "graph.add_node(\"tools_calling_llm\",tool_calling_llm)\n",
    "graph.add_node(\"tools\",ToolNode(tools))\n",
    "\n",
    "graph.add_edge(START,\"tools_calling_llm\")\n",
    "graph.add_conditional_edges(\"tools_calling_llm\",tools_condition)\n",
    "graph.add_edge(\"tools\", \"tools_calling_llm\")\n",
    "\n",
    "builder=graph.compile()\n",
    "\n",
    "display(Image(builder.get_graph().draw_mermaid_png()))\n",
    "\n",
    "\n",
    "\n",
    "\n"
   ]
  },
  {
   "cell_type": "code",
   "execution_count": 18,
   "id": "8a42f84f",
   "metadata": {},
   "outputs": [
    {
     "name": "stdout",
     "output_type": "stream",
     "text": [
      "================================\u001b[1m Human Message \u001b[0m=================================\n",
      "\n",
      "addd 5 and 6 then multiply with 10 and divide the value by 4 and tell me significance of that number\n",
      "==================================\u001b[1m Ai Message \u001b[0m==================================\n",
      "Tool Calls:\n",
      "  add (e5sr0m01z)\n",
      " Call ID: e5sr0m01z\n",
      "  Args:\n",
      "    a: 5\n",
      "    b: 6\n",
      "=================================\u001b[1m Tool Message \u001b[0m=================================\n",
      "Name: add\n",
      "\n",
      "11\n",
      "==================================\u001b[1m Ai Message \u001b[0m==================================\n",
      "Tool Calls:\n",
      "  multiply (za1h3nven)\n",
      " Call ID: za1h3nven\n",
      "  Args:\n",
      "    a: 11\n",
      "    b: 10\n",
      "=================================\u001b[1m Tool Message \u001b[0m=================================\n",
      "Name: multiply\n",
      "\n",
      "110\n",
      "==================================\u001b[1m Ai Message \u001b[0m==================================\n",
      "Tool Calls:\n",
      "  divide (zwn77jkfg)\n",
      " Call ID: zwn77jkfg\n",
      "  Args:\n",
      "    a: 110\n",
      "    b: 4\n",
      "=================================\u001b[1m Tool Message \u001b[0m=================================\n",
      "Name: divide\n",
      "\n",
      "27.5\n",
      "==================================\u001b[1m Ai Message \u001b[0m==================================\n",
      "Tool Calls:\n",
      "  tavily_search_results_json (3tqgqwpya)\n",
      " Call ID: 3tqgqwpya\n",
      "  Args:\n",
      "    query: significance of 27.5\n",
      "=================================\u001b[1m Tool Message \u001b[0m=================================\n",
      "Name: tavily_search_results_json\n",
      "\n",
      "[{\"title\": \"27.5 mountain bike\", \"url\": \"https://en.wikipedia.org/wiki/27.5_mountain_bike\", \"content\": \"Wikipedia\\nThe Free Encyclopedia\\n\\n## Contents\\n\\n# 27.5 mountain bike\\n\\n27.5 mountain bikes are mountain bikes which use a large volume tire that is approximately 27.5 inches in diameter, 56 mm wide (ISO 56-584 / 27.5 × 2.25) on an ISO 584 mm rim. 27.5 mountain bikes are also called tweeners, since it \\\"fits between\\\" the traditional 26-inch wheels and the newer 29ers \\\"29er (bicycle)\\\"). [...] The 27.5 inch are seen as a compromise between the two existing standards of the original 26 inch (ISO 559 mm rim) and recently emerged 29 inch \\\"29er (bicycle)\\\") (ISO 622 mm rim) mountain bikes (late 2000s).\\n\\n## History\\n\\nIn 2007, 27.5 inch wheels for mountain bike use was pioneered by Kirk Pacenti as the optimal choice for full suspension mountain bikes, and in 2013 at least 10 companies had launched models with 27.5 inch wheels, with some parts manufacturers following suit. [...] Names for the wheel size other than the ISO designated 56-584 are 27.5\\\" and 650B, both considered controversial marketing terms. The wheel's diameter is smaller than \\\"27-inch\\\" (630mm ISO) size found on older road bicycles and the 650B size has traditionally been a designation for a 26 inch diameter (ISO ~ 40-584 demi-ballon tire) using the same ISO 584 mm rim with narrower tires, used by French tandems, Porteurs and touring bicycles.\", \"score\": 0.53925073}, {\"title\": \"Bicycle Wheel Sizes Explained\", \"url\": \"https://www.montaguebikes.com/folding-bikes-blog/2019/06/bicycle-wheel-sizes-explained/?srsltid=AfmBOoqZXa0p8hmHS4EcuHv_1GeG_3-_a5wBeWa_ytQnvDoumJt1xqoH\", \"content\": \"In recent years, mountain bikes have been moving toward larger wheels, and when 650b was re-purposed for off-road it became known as 27.5″. When compared to the 26″ wheels that dominated the MTB world, 27.5″ wheels have a variety of advantages, including the ability to roll over obstacles more easily, a larger contact patch for more traction, and more rotational inertia to maintain momentum. The Montague Paratrooper Highline and Paratrooper Elite both use 27.5″ wheels, and are the first folding [...] As with most bike wheel naming conventions, the term ’26 inch’ does not refer to the diameter of the wheel itself, but rather the approximate outside diameter of the tire that fits this wheel size. The actual ISO diameter of a traditional 26″ wheel is 559 millimeters.\\n\\n### 27.5″ / 650b Wheels (ISO 584 mm) [...] Montague Bikes\\n\\n27.5″ and 650b are names for the same wheel diameter. You have a fairly wide range of widths that are compatible with any rim, so you’ll want to look for a tire marked 27.5″ x (insert width here). If the inner width of the rim is 1″, then you could go as narrow as about 1.5″ on the tire width.\\n\\nRoiko\", \"score\": 0.5150107}, {\"title\": \"Bike Tire Sizes Explained: All You Need To Know\", \"url\": \"https://www.sweetpetes.com/articles/bike-tire-sizes-guide-pg564.htm?srsltid=AfmBOopfhJFdUxgZ6dUyIpj5umnAvE7laWFePxDfHpJW-9tnvC-RondK\", \"content\": \"On a mountain bike, 27.5 x 2.25 means the tire has a diameter of 27.5 inches and a width of 2.25 inches.\\n\\n## Does bike tire width matter? [...] 27.5 inch is the other most common modern mountain bike tire/wheel size.\\n\\n27.5 inch tires are more nimble than 29ers, so riders who prefer agility over top speed typically like this size.\\n\\n### 650B bike tires\\n\\n650B tires are typically found on gravel and touring bikes. They have the same inner diameter as 27.5” mountain bike tires but 650B tires are more geared towards all-terrain, gravel, and adventure riding instead of trails, hence the separate name.\\n\\n### 26 inch bike tires [...] The most reliable description of a tire’s size is the ISO number that tells the diameter of the tire at the tire bead (the inner edge) in millimeters. The International Standards Organization developed this system to make tire sizing consistent across manufacturers.\\n\\n## Standard bike tire sizes explained\\n\\nThe most common tire sizes on modern adult mountain bikes are 27.5” and 29”, and the standard road and gravel tire sizes are 700C and 650B.\", \"score\": 0.51076555}, {\"title\": \"27.5 vs. 29er: Which Mountain Bike is Right for Me?\", \"url\": \"https://www.rei.com/learn/expert-advice/mountain-bike-wheel-size.html\", \"content\": \"27.5\\\": Faster acceleration is often cited as one of the biggest benefits of a 27.5\\\" wheel when compared to a 29\\\" wheel. Wheels that accelerate faster give a bike a snappy, responsive feel that many riders desire. [...] Attack angle is the angle formed when the round wheel touches a square object. A shallower angle is better because the wheel can roll more easily over the object.\\n\\n27.5 in. wheels don't roll over objects as easily as 29ers, but they are still very capable. Think about where you'll be riding: if you'll mostly ride smooth trails, 27. 5 in. wheels will serve you just fine. [...] A 29 in. bike is more flexible due to the elongation of the frame that comes with the larger wheel size. This can result in a bike that feels harder to handle in tight turns.\\n\\nIf you regularly ride tight, twisty trails, you might prefer the feel of a 27.5 in. bike. 27.5 in. wheels retain a lot of the snappy feel of the original 26 in. size, while maintaining many of the benefits that come with a larger wheel.\", \"score\": 0.5009527}, {\"title\": \"Angel Number 27: Significance, Interpretation, and Guidance\", \"url\": \"https://tinyrituals.co/blogs/tiny-rituals/angel-number-27?srsltid=AfmBOoqKvfujAPgP5BvbI8D4O4fyZf9wdtTwRhlNDfZB_pfqwRnqYydk\", \"content\": \"life. As the number 27 is all about balance in life and seeking deeper spiritual meaning, you can keep these themes present when considering the lessons that come with seeing this number. [...] The special meaning and divine message carried by the number 27 is all about the beauty of spirituality and balance in life. The presence of the number 7 makes this a highly spiritual number, as does the number 2 but in a different way. Angel number 2 could be considered a root chakra number and one of balance and harmony. Angel number 7 can be considered a crown chakra number as it connects to the cosmos. Therefore, the symbiotic energy of these numbers within this sequence carries the true [...] 27 angel number means that you may be facing a period of spiritual growth and that by bringing more balance into your life, you can find your life path. There are many messages from your guardian angels tied up in the number 27, and all point towards spiritual energy surrounding you and bringing you into a place of harmony and connection. This angelic sequence is made up of the angel number 2 and the angel number 7. Angel number 2 is a number of diplomacy, connection, partnerships, love,\", \"score\": 0.38650924}]\n",
      "==================================\u001b[1m Ai Message \u001b[0m==================================\n",
      "\n",
      "The number **27.5** is most significantly associated with **mountain bike wheel sizes**. Here's the breakdown:\n",
      "\n",
      "1. **27.5 Mountain Bike Wheels**:  \n",
      "   - This wheel size (also called \"650B\" in some contexts) emerged as a compromise between traditional 26-inch wheels and newer 29-inch wheels.  \n",
      "   - **Advantages**: Better obstacle clearance, improved traction, and faster acceleration compared to 29ers, while maintaining agility over rough terrain.  \n",
      "   - **Adoption**: Popularized in the 2000s for full-suspension bikes, balancing nimbleness and trail performance.  \n",
      "\n",
      "2. **Technical Context**:  \n",
      "   - The \"27.5\" refers to the tire diameter (ISO 584 mm rim). Tires are often labeled as \"27.5 × [width in inches]\" (e.g., 27.5 × 2.25).  \n",
      "   - Used in modern mountain bikes for a middle ground between smaller (26\") and larger (29\") wheels.  \n",
      "\n",
      "3. **Other Mentions**:  \n",
      "   - **650B Tires**: Same rim size (584 mm) but sometimes used for gravel/adventure bikes, with different tire widths.  \n",
      "   - **Spiritual Symbolism**: Angel number 27 (close to 27.5) is linked to balance and spiritual growth, but this is less relevant to the calculation.  \n",
      "\n",
      "In practical terms, **27.5 is a key specification in cycling**, representing a widely adopted standard for performance-oriented mountain bikes. 🚴♂️\n"
     ]
    }
   ],
   "source": [
    "messages=builder.invoke({\"messages\":HumanMessage(content=\"addd 5 and 6 then multiply with 10 and divide the value by 4 and tell me significance of that number\")})\n",
    "for m in messages[\"messages\"]:\n",
    "    m.pretty_print()"
   ]
  },
  {
   "cell_type": "code",
   "execution_count": 19,
   "id": "5d0467b9",
   "metadata": {},
   "outputs": [
    {
     "data": {
      "text/plain": [
       "<langgraph.graph.state.StateGraph at 0x22950d0f3b0>"
      ]
     },
     "execution_count": 19,
     "metadata": {},
     "output_type": "execute_result"
    }
   ],
   "source": [
    "## Memory Integration\n",
    "\n",
    "### Entire chatbot with LangGraph\n",
    "from IPython.display import Image,display\n",
    "from langgraph.graph import StateGraph, START, END\n",
    "from langgraph.prebuilt import ToolNode, tools_condition\n",
    "\n",
    "\n",
    "## Node Defintion\n",
    "def tool_calling_llm(state:State):\n",
    "    return {\"messages\":llm_with_tools.invoke(state[\"messages\"])}\n",
    "\n",
    "##Build Graph\n",
    "graph=StateGraph(State)\n",
    "graph.add_node(\"tools_calling_llm\",tool_calling_llm)\n",
    "graph.add_node(\"tools\",ToolNode(tools))\n",
    "\n",
    "graph.add_edge(START,\"tools_calling_llm\")\n",
    "graph.add_conditional_edges(\"tools_calling_llm\",tools_condition)\n",
    "graph.add_edge(\"tools\", \"tools_calling_llm\")\n",
    "\n",
    "\n",
    "\n",
    "\n",
    "\n",
    "\n"
   ]
  },
  {
   "cell_type": "code",
   "execution_count": 24,
   "id": "7cdbfda0",
   "metadata": {},
   "outputs": [
    {
     "data": {
      "image/png": "[encoded data removed]",
      "text/plain": [
       "<IPython.core.display.Image object>"
      ]
     },
     "metadata": {},
     "output_type": "display_data"
    }
   ],
   "source": [
    "from langgraph.checkpoint.memory import MemorySaver\n",
    "memory=MemorySaver()\n",
    "\n",
    "graph_memory=graph.compile(checkpointer=memory)\n",
    "\n",
    "display(Image(graph_memory.get_graph().draw_mermaid_png()))"
   ]
  },
  {
   "cell_type": "code",
   "execution_count": 25,
   "id": "f1f6ec1e",
   "metadata": {},
   "outputs": [
    {
     "name": "stdout",
     "output_type": "stream",
     "text": [
      "================================\u001b[1m Human Message \u001b[0m=================================\n",
      "\n",
      "addd 12 and 13 \n",
      "==================================\u001b[1m Ai Message \u001b[0m==================================\n",
      "Tool Calls:\n",
      "  add (9f39m3ff1)\n",
      " Call ID: 9f39m3ff1\n",
      "  Args:\n",
      "    a: 12\n",
      "    b: 13\n",
      "=================================\u001b[1m Tool Message \u001b[0m=================================\n",
      "Name: add\n",
      "\n",
      "25\n",
      "==================================\u001b[1m Ai Message \u001b[0m==================================\n",
      "\n",
      "The sum of 12 and 13 is **25**.\n"
     ]
    }
   ],
   "source": [
    "## Specify the Thread\n",
    "\n",
    "config ={\"configurable\":{\"thread_id\":\"22\"}}\n",
    "\n",
    "messages=[HumanMessage(content=\"addd 12 and 13 \")]\n",
    "messages=graph_memory.invoke({\"messages\":messages},config=config)\n",
    "for m in messages[\"messages\"]:\n",
    "    m.pretty_print()"
   ]
  },
  {
   "cell_type": "code",
   "execution_count": 26,
   "id": "9e604155",
   "metadata": {},
   "outputs": [
    {
     "name": "stdout",
     "output_type": "stream",
     "text": [
      "================================\u001b[1m Human Message \u001b[0m=================================\n",
      "\n",
      "addd 12 and 13 \n",
      "==================================\u001b[1m Ai Message \u001b[0m==================================\n",
      "Tool Calls:\n",
      "  add (9f39m3ff1)\n",
      " Call ID: 9f39m3ff1\n",
      "  Args:\n",
      "    a: 12\n",
      "    b: 13\n",
      "=================================\u001b[1m Tool Message \u001b[0m=================================\n",
      "Name: add\n",
      "\n",
      "25\n",
      "==================================\u001b[1m Ai Message \u001b[0m==================================\n",
      "\n",
      "The sum of 12 and 13 is **25**.\n",
      "================================\u001b[1m Human Message \u001b[0m=================================\n",
      "\n",
      " divide with 5 \n",
      "==================================\u001b[1m Ai Message \u001b[0m==================================\n",
      "Tool Calls:\n",
      "  divide (06000vexk)\n",
      " Call ID: 06000vexk\n",
      "  Args:\n",
      "    a: 25\n",
      "    b: 5\n",
      "=================================\u001b[1m Tool Message \u001b[0m=================================\n",
      "Name: divide\n",
      "\n",
      "5.0\n",
      "==================================\u001b[1m Ai Message \u001b[0m==================================\n",
      "\n",
      "The result of dividing 25 by 5 is **5.0**.\n"
     ]
    }
   ],
   "source": [
    "messages=[HumanMessage(content=\" divide with 5 \")]\n",
    "messages=graph_memory.invoke({\"messages\":messages},config=config)\n",
    "for m in messages[\"messages\"]:\n",
    "    m.pretty_print()"
   ]
  }
 ],
 "metadata": {
  "kernelspec": {
   "display_name": "venv",
   "language": "python",
   "name": "python3"
  },
  "language_info": {
   "codemirror_mode": {
    "name": "ipython",
    "version": 3
   },
   "file_extension": ".py",
   "mimetype": "text/x-python",
   "name": "python",
   "nbconvert_exporter": "python",
   "pygments_lexer": "ipython3",
   "version": "3.12.0"
  }
 },
 "nbformat": 4,
 "nbformat_minor": 5
}
