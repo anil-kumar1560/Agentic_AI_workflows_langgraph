{
 "cells": [
  {
   "cell_type": "markdown",
   "id": "0b93b071",
   "metadata": {},
   "source": [
    "### Building Chatbot With Multiple Tools Using Langgraph\n",
    "\n",
    "#### Aim\n",
    "\n",
    "Create a chatbot with tool capabilities from arxiv, wikipedia,search and some functions\n"
   ]
  },
  {
   "cell_type": "code",
   "execution_count": 1,
   "id": "21b11776",
   "metadata": {},
   "outputs": [],
   "source": [
    "from langchain_community.tools import ArxivQueryRun, WikipediaQueryRun\n",
    "from langchain_community.utilities import WikipediaAPIWrapper, ArxivAPIWrapper"
   ]
  },
  {
   "cell_type": "code",
   "execution_count": 2,
   "id": "e535cf06",
   "metadata": {},
   "outputs": [],
   "source": [
    "api_wrapper_arxiv = ArxivAPIWrapper(top_k_results=2,doc_content_chars_max=500)\n",
    "arxiv = ArxivQueryRun(api_wrapper=api_wrapper_arxiv)"
   ]
  },
  {
   "cell_type": "code",
   "execution_count": 3,
   "id": "fd4a4e75",
   "metadata": {},
   "outputs": [
    {
     "data": {
      "text/plain": [
       "\"Published: 2024-07-22\\nTitle: Attention Is All You Need But You Don't Need All Of It For Inference of Large Language Models\\nAuthors: Georgy Tyukin, Gbetondji J-S Dovonon, Jean Kaddour, Pasquale Minervini\\nSummary: The inference demand for LLMs has skyrocketed in recent months, and serving\\nmodels with low latencies remains challenging due to the quadratic input length\\ncomplexity of the attention layers. In this work, we investigate the effect of\\ndropping MLP and attention layers at inference time o\""
      ]
     },
     "execution_count": 3,
     "metadata": {},
     "output_type": "execute_result"
    }
   ],
   "source": [
    "arxiv.invoke(\"attention is all you need\")"
   ]
  },
  {
   "cell_type": "code",
   "execution_count": 4,
   "id": "3e62113a",
   "metadata": {},
   "outputs": [],
   "source": [
    "api_wrapper_wiki = WikipediaAPIWrapper(top_k_results=2,doc_content_chars_max=500)\n",
    "wiki = WikipediaQueryRun(api_wrapper=api_wrapper_wiki)"
   ]
  },
  {
   "cell_type": "code",
   "execution_count": 5,
   "id": "cebebd40",
   "metadata": {},
   "outputs": [
    {
     "data": {
      "text/plain": [
       "'Page: Machine learning\\nSummary: Machine learning (ML) is a field of study in artificial intelligence concerned with the development and study of statistical algorithms that can learn from data and generalise to unseen data, and thus perform tasks without explicit instructions. Within a subdiscipline in machine learning, advances in the field of deep learning have allowed neural networks, a class of statistical algorithms, to surpass many previous machine learning approaches in performance.\\nML fi'"
      ]
     },
     "execution_count": 5,
     "metadata": {},
     "output_type": "execute_result"
    }
   ],
   "source": [
    "wiki.invoke(\"What is machine learning?\")"
   ]
  },
  {
   "cell_type": "code",
   "execution_count": 6,
   "id": "b68920d7",
   "metadata": {},
   "outputs": [],
   "source": [
    "from dotenv import load_dotenv\n",
    "load_dotenv()  # take environment variables from .env.\n",
    "\n",
    "import os\n",
    "\n",
    "os.environ[\"TAVILY_API_KEY\"]=os.getenv(\"TAVILY_API_KEY\")\n",
    "os.environ[\"Groq_API_KEY\"]=os.getenv(\"Groq_API_Key\")"
   ]
  },
  {
   "cell_type": "code",
   "execution_count": 7,
   "id": "db8f864f",
   "metadata": {},
   "outputs": [
    {
     "name": "stderr",
     "output_type": "stream",
     "text": [
      "C:\\Users\\gakum\\AppData\\Local\\Temp\\ipykernel_3484\\808923814.py:3: LangChainDeprecationWarning: The class `TavilySearchResults` was deprecated in LangChain 0.3.25 and will be removed in 1.0. An updated version of the class exists in the :class:`~langchain-tavily package and should be used instead. To use it run `pip install -U :class:`~langchain-tavily` and import as `from :class:`~langchain_tavily import TavilySearch``.\n",
      "  tavily= TavilySearchResults()\n"
     ]
    }
   ],
   "source": [
    "from langchain_community.tools.tavily_search import TavilySearchResults\n",
    "\n",
    "tavily= TavilySearchResults()\n"
   ]
  },
  {
   "cell_type": "code",
   "execution_count": 8,
   "id": "8f3d0032",
   "metadata": {},
   "outputs": [
    {
     "data": {
      "text/plain": [
       "[{'title': 'Machine learning, explained | MIT Sloan',\n",
       "  'url': 'https://mitsloan.mit.edu/ideas-made-to-matter/machine-learning-explained',\n",
       "  'content': 'What is machine learning?\\n\\nMachine learning is a subfield of artificial intelligence, which is broadly defined as the capability of a machine to imitate intelligent human behavior. Artificial intelligence systems are used to perform complex tasks in a way that is similar to how humans solve problems. [...] When companies today deploy artificial intelligence programs, they are most likely using machine learning —so much so that the terms are often used interchangeably, and sometimes ambiguously. Machine learning is a subfield of artificial intelligence that gives computers the ability to learn without explicitly being programmed. [...] open share links close share links\\nMachine learning is behind chatbots and predictive text, language translation apps, the shows Netflix suggests to you, and how your social media feeds are presented. It powers autonomous vehicles and machines that can diagnose medical conditions based on images.',\n",
       "  'score': 0.79542017},\n",
       " {'title': 'What is Machine Learning? - Google for Developers',\n",
       "  'url': 'https://developers.google.com/machine-learning/intro-to-ml/what-is-ml',\n",
       "  'content': 'Machine learning (ML) is a way to train software, called a model, to make predictions or generate content using data.\\n ML systems can be categorized as supervised, unsupervised, reinforcement, or generative AI, each learning differently.\\n Supervised learning uses labeled data to make predictions, often for regression (predicting numerical values) or classification (categorizing data). [...] In basic terms, ML is the process of training a piece of software, called a model, to make useful predictions or generate content (like text, images, audio, or video) from data. [...] Machine learning (ML) powers some of the most important technologies we use, from translation apps to autonomous vehicles. This course explains the core concepts behind ML.\\n\\nML offers a new way to solve problems, answer complex questions, and create new content. ML can predict the weather, estimate travel times, recommend songs, auto-complete sentences, summarize articles, and generate never-seen-before images.',\n",
       "  'score': 0.78512776},\n",
       " {'title': 'What is Machine Learning (ML) ? | IBM',\n",
       "  'url': 'https://www.ibm.com/think/topics/machine-learning',\n",
       "  'content': 'Artificial Intelligence   Compute and servers   IT automation\\n\\n# What is machine learning ?\\n\\n## What is machine learning ?\\n\\nMachine learning is the subset of artificial intelligence (AI) focused on algorithms that can “learn” the patterns of training data and, subsequently, make accurate inferences about new data. This pattern recognition ability enables machine learning models to make decisions or predictions without explicit, hard-coded instructions. [...] The discipline of machine learning is closely intertwined with that of data science. In a sense, machine learning can be understood as a collection of algorithms and techniques to automate data analysis and (more importantly) apply learnings from that analysis to the autonomous execution of relevant tasks. [...] The central premise of machine learning (ML) is that if you optimize a model’s performance on a dataset of tasks that adequately resemble the real-world problems it will be used for—through a process called model training—the model can make accurate predictions on the new data it sees in its ultimate use case.',\n",
       "  'score': 0.7732339},\n",
       " {'title': 'What Is Machine Learning? Definition, Types, and Examples',\n",
       "  'url': 'https://www.coursera.org/articles/what-is-machine-learning',\n",
       "  'content': \"Machine learning is a subfield of artificial intelligence (AI) that uses algorithms trained on data sets to create self-learning models capable of predicting outcomes and classifying information without human intervention. Machine learning is used today for a wide range of commercial purposes, including suggesting products to consumers based on their past purchases, predicting stock market fluctuations, and translating text from one language to another. [...] Machine learning is a subfield of artificial intelligence that uses algorithms trained on data sets to create models capable of performing tasks that would otherwise only be possible for humans, such as categorizing images, analyzing data, or predicting price fluctuations. Today, machine learning is one of the most common forms of artificial intelligence and often powers many of the digital goods and services we use every day. [...] For an overview of machine learning, take the University of London's Machine Learning for All course. Explore the basics of how machine learning technologies work, train a machine learning model using a dataset, and learn more about the benefits and challenges of using machine learning in the world.\",\n",
       "  'score': 0.76951396},\n",
       " {'title': 'Machine learning - Wikipedia',\n",
       "  'url': 'https://en.wikipedia.org/wiki/Machine_learning',\n",
       "  'content': 'Machine learning (ML) is a field of study in artificial intelligence concerned with the development and study of statistical algorithms that can learn from data and generalise to unseen data, and thus perform tasks \"Task (computing)\") without explicit instructions. Within a subdiscipline in machine learning, advances in the field of deep learning have allowed neural networks \"Neural network (machine learning)\"), a class of statistical algorithms, to surpass many previous machine learning [...] ML finds application in many fields, including natural language processing, computer vision, speech recognition, email filtering, agriculture, and medicine. The application of ML to business problems is known as predictive analytics.\\n\\nStatistics and mathematical optimisation (mathematical programming) methods comprise the foundations of machine learning. Data mining is a related field of study, focusing on exploratory data analysis (EDA) via unsupervised learning. [...] (mathematics)\"). Through iterative optimisation of an objective function, supervised learning algorithms learn a function that can be used to predict the output associated with new inputs. An optimal function allows the algorithm to correctly determine the output for inputs that were not a part of the training data. An algorithm that improves the accuracy of its outputs or predictions over time is said to have learned to perform that task.',\n",
       "  'score': 0.7368747}]"
      ]
     },
     "execution_count": 8,
     "metadata": {},
     "output_type": "execute_result"
    }
   ],
   "source": [
    "tavily.invoke(\"Tell me about machine learning\")"
   ]
  },
  {
   "cell_type": "code",
   "execution_count": 9,
   "id": "937b6442",
   "metadata": {},
   "outputs": [],
   "source": [
    "tools=[arxiv, wiki, tavily]"
   ]
  },
  {
   "cell_type": "code",
   "execution_count": 10,
   "id": "6b2a0444",
   "metadata": {},
   "outputs": [],
   "source": [
    "from langchain_groq import ChatGroq\n",
    "\n",
    "groq_llm=ChatGroq(model=\"qwen/qwen3-32b\")\n",
    "\n",
    "llm_with_tools=groq_llm.bind_tools(tools)"
   ]
  },
  {
   "cell_type": "code",
   "execution_count": null,
   "id": "e2862c13",
   "metadata": {},
   "outputs": [
    {
     "data": {
      "text/plain": [
       "AIMessage(content='', additional_kwargs={'reasoning_content': 'Okay, the user is asking about the \"Attention is All You Need\" research paper. Let me recall what that paper is about. I think it introduced the Transformer model, which uses self-attention mechanisms. But I need to make sure I get the details right.\\n\\nFirst, I should check if the paper is available on arXiv. The user mentioned \"research paper,\" so the arXiv function would be appropriate here. The paper\\'s title is likely \"Attention Is All You Need\" by Vaswani et al. The authors might include some well-known researchers in NLP. The key contributions are the Transformer architecture, self-attention, and position-wise feed-forward networks. The paper was published in 2017, I believe, at NeurIPS.\\n\\nWait, the user might want the key points, like how the Transformer works, its components like encoder-decoder layers, positional encoding, and the advantages over RNNs and CNNs. Also, the performance on tasks like machine translation. I should make sure to highlight the significance of the paper in enabling models like BERT and GPT.\\n\\nBut to provide accurate information, I need to look up the details. Using the arXiv function with the search query \"Attention Is All You Need\" should retrieve the paper\\'s information. That way, I can get the abstract, authors, publication date, and other relevant details to answer the user comprehensively.\\n', 'tool_calls': [{'id': '78skyfz1x', 'function': {'arguments': '{\"query\":\"Attention Is All You Need\"}', 'name': 'arxiv'}, 'type': 'function'}]}, response_metadata={'token_usage': {'completion_tokens': 317, 'prompt_tokens': 406, 'total_tokens': 723, 'completion_time': 0.722231643, 'prompt_time': 0.01938515, 'queue_time': 0.189267893, 'total_time': 0.741616793}, 'model_name': 'qwen/qwen3-32b', 'system_fingerprint': 'fp_5cf921caa2', 'service_tier': 'on_demand', 'finish_reason': 'tool_calls', 'logprobs': None}, id='run--82be4cf9-9c71-42ff-8976-90e457005537-0', tool_calls=[{'name': 'arxiv', 'args': {'query': 'Attention Is All You Need'}, 'id': '78skyfz1x', 'type': 'tool_call'}], usage_metadata={'input_tokens': 406, 'output_tokens': 317, 'total_tokens': 723})"
      ]
     },
     "execution_count": 11,
     "metadata": {},
     "output_type": "execute_result"
    }
   ],
   "source": [
    "from pprint import pprint\n",
    "from langchain_core.messages import AIMessage, HumanMessage\n",
    "llm_with_tools.invoke([HumanMessage(content=\"tell me about attentions is all you need reasearch paper\")])"
   ]
  },
  {
   "cell_type": "code",
   "execution_count": 13,
   "id": "6796ed84",
   "metadata": {},
   "outputs": [],
   "source": [
    "## State Schema\n",
    "from typing_extensions import TypedDict\n",
    "from langchain_core.messages import AnyMessage\n",
    "from typing import Annotated\n",
    "from langgraph.graph.message import add_messages\n",
    "\n",
    "class State(TypedDict):\n",
    "    messages:Annotated[list[AnyMessage],add_messages]\n",
    "    "
   ]
  },
  {
   "cell_type": "code",
   "execution_count": 16,
   "id": "bd853d79",
   "metadata": {},
   "outputs": [
    {
     "data": {
      "image/png": "[encoded data removed]",
      "text/plain": [
       "<IPython.core.display.Image object>"
      ]
     },
     "metadata": {},
     "output_type": "display_data"
    }
   ],
   "source": [
    "### Entire chatbot with LangGraph\n",
    "from IPython.display import Image,display\n",
    "from langgraph.graph import StateGraph, START, END\n",
    "from langgraph.prebuilt import ToolNode, tools_condition\n",
    "\n",
    "\n",
    "## Node Defintion\n",
    "def tool_calling_llm(state:State):\n",
    "    return {\"messages\":llm_with_tools.invoke(state[\"messages\"])}\n",
    "\n",
    "##Build Graph\n",
    "graph=StateGraph(State)\n",
    "graph.add_node(\"tools_calling_llm\",tool_calling_llm)\n",
    "graph.add_node(\"tools\",ToolNode(tools))\n",
    "\n",
    "graph.add_edge(START,\"tools_calling_llm\")\n",
    "graph.add_conditional_edges(\"tools_calling_llm\",tools_condition)\n",
    "graph.add_edge(\"tools\", END)\n",
    "\n",
    "builder=graph.compile()\n",
    "\n",
    "display(Image(builder.get_graph().draw_mermaid_png()))\n",
    "\n",
    "\n",
    "\n",
    "\n"
   ]
  },
  {
   "cell_type": "code",
   "execution_count": 20,
   "id": "23ad2161",
   "metadata": {},
   "outputs": [
    {
     "name": "stdout",
     "output_type": "stream",
     "text": [
      "================================\u001b[1m Human Message \u001b[0m=================================\n",
      "\n",
      "what is machine learning?\n",
      "==================================\u001b[1m Ai Message \u001b[0m==================================\n",
      "Tool Calls:\n",
      "  wikipedia (qywwf5rzs)\n",
      " Call ID: qywwf5rzs\n",
      "  Args:\n",
      "    query: Machine learning\n",
      "=================================\u001b[1m Tool Message \u001b[0m=================================\n",
      "Name: wikipedia\n",
      "\n",
      "Page: Machine learning\n",
      "Summary: Machine learning (ML) is a field of study in artificial intelligence concerned with the development and study of statistical algorithms that can learn from data and generalise to unseen data, and thus perform tasks without explicit instructions. Within a subdiscipline in machine learning, advances in the field of deep learning have allowed neural networks, a class of statistical algorithms, to surpass many previous machine learning approaches in performance.\n",
      "ML fi\n"
     ]
    }
   ],
   "source": [
    "messages=builder.invoke({\"messages\":HumanMessage(content=\"what is machine learning?\")})\n",
    "for m in messages[\"messages\"]:\n",
    "    m.pretty_print()"
   ]
  },
  {
   "cell_type": "code",
   "execution_count": null,
   "id": "8ff2ef4f",
   "metadata": {},
   "outputs": [],
   "source": []
  }
 ],
 "metadata": {
  "kernelspec": {
   "display_name": "venv",
   "language": "python",
   "name": "python3"
  },
  "language_info": {
   "codemirror_mode": {
    "name": "ipython",
    "version": 3
   },
   "file_extension": ".py",
   "mimetype": "text/x-python",
   "name": "python",
   "nbconvert_exporter": "python",
   "pygments_lexer": "ipython3",
   "version": "3.12.0"
  }
 },
 "nbformat": 4,
 "nbformat_minor": 5
}
