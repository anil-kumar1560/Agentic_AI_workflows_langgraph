{
 "cells": [
  {
   "cell_type": "markdown",
   "id": "0b93b071",
   "metadata": {},
   "source": [
    "### Building Chatbot With Multiple Tools Using Langgraph\n",
    "\n",
    "#### Aim\n",
    "\n",
    "Create a chatbot with tool capabilities from arxiv, wikipedia,search and some functions\n"
   ]
  },
  {
   "cell_type": "code",
   "execution_count": 1,
   "id": "21b11776",
   "metadata": {},
   "outputs": [],
   "source": [
    "from langchain_community.tools import ArxivQueryRun, WikipediaQueryRun\n",
    "from langchain_community.utilities import WikipediaAPIWrapper, ArxivAPIWrapper"
   ]
  },
  {
   "cell_type": "code",
   "execution_count": 2,
   "id": "e535cf06",
   "metadata": {},
   "outputs": [],
   "source": [
    "api_wrapper_arxiv = ArxivAPIWrapper(top_k_results=2,doc_content_chars_max=500)\n",
    "arxiv = ArxivQueryRun(api_wrapper=api_wrapper_arxiv)"
   ]
  },
  {
   "cell_type": "code",
   "execution_count": 4,
   "id": "fd4a4e75",
   "metadata": {},
   "outputs": [
    {
     "data": {
      "text/plain": [
       "\"Published: 2024-07-22\\nTitle: Attention Is All You Need But You Don't Need All Of It For Inference of Large Language Models\\nAuthors: Georgy Tyukin, Gbetondji J-S Dovonon, Jean Kaddour, Pasquale Minervini\\nSummary: The inference demand for LLMs has skyrocketed in recent months, and serving\\nmodels with low latencies remains challenging due to the quadratic input length\\ncomplexity of the attention layers. In this work, we investigate the effect of\\ndropping MLP and attention layers at inference time o\""
      ]
     },
     "execution_count": 4,
     "metadata": {},
     "output_type": "execute_result"
    }
   ],
   "source": [
    "arxiv.invoke(\"attention is all you need\")"
   ]
  },
  {
   "cell_type": "code",
   "execution_count": 5,
   "id": "3e62113a",
   "metadata": {},
   "outputs": [],
   "source": [
    "api_wrapper_wiki = WikipediaAPIWrapper(top_k_results=2,doc_content_chars_max=500)\n",
    "wiki = WikipediaQueryRun(api_wrapper=api_wrapper_wiki)"
   ]
  },
  {
   "cell_type": "code",
   "execution_count": 6,
   "id": "cebebd40",
   "metadata": {},
   "outputs": [
    {
     "data": {
      "text/plain": [
       "'Page: Machine learning\\nSummary: Machine learning (ML) is a field of study in artificial intelligence concerned with the development and study of statistical algorithms that can learn from data and generalise to unseen data, and thus perform tasks without explicit instructions. Within a subdiscipline in machine learning, advances in the field of deep learning have allowed neural networks, a class of statistical algorithms, to surpass many previous machine learning approaches in performance.\\nML fi'"
      ]
     },
     "execution_count": 6,
     "metadata": {},
     "output_type": "execute_result"
    }
   ],
   "source": [
    "wiki.invoke(\"What is machine learning?\")"
   ]
  },
  {
   "cell_type": "code",
   "execution_count": 7,
   "id": "b68920d7",
   "metadata": {},
   "outputs": [],
   "source": [
    "from dotenv import load_dotenv\n",
    "load_dotenv()  # take environment variables from .env.\n",
    "\n",
    "import os\n",
    "\n",
    "os.environ[\"TAVILY_API_KEY\"]=os.getenv(\"TAVILY_API_KEY\")\n",
    "os.environ[\"Groq_API_KEY\"]=os.getenv(\"Groq_API_Key\")"
   ]
  },
  {
   "cell_type": "code",
   "execution_count": 12,
   "id": "db8f864f",
   "metadata": {},
   "outputs": [],
   "source": [
    "from langchain_community.tools.tavily_search import TavilySearchResults\n",
    "\n",
    "tavily= TavilySearchResults()\n"
   ]
  },
  {
   "cell_type": "code",
   "execution_count": 13,
   "id": "8f3d0032",
   "metadata": {},
   "outputs": [
    {
     "data": {
      "text/plain": [
       "[{'title': 'Top 10 Machine Learning Applications and Examples in ...',\n",
       "  'url': 'https://www.simplilearn.com/tutorials/machine-learning-tutorial/machine-learning-applications',\n",
       "  'content': '*   [Resources](https://www.simplilearn.com/tutorials/machine-learning-tutorial/machine-learning-applications#) *   [More](https://www.simplilearn.com/tutorials/machine-learning-tutorial/machine-learning-applications#) *   [All Courses](https://www.simplilearn.com/tutorials/machine-learning-tutorial/machine-learning-applications \"All Courses\") *   [Simplilearn for Business](https://www.simplilearn.com/tutorials/machine-learning-tutorial/machine-learning-applications \"Simplilearn for Business\") *   [Resources](https://www.simplilearn.com/tutorials/machine-learning-tutorial/machine-learning-applications \"Resources\") *   [Become an Instructor](https://www.simplilearn.com/tutorials/machine-learning-tutorial/machine-learning-applications \"Become an Instructor\") *   [Hire From Us](https://www.simplilearn.com/tutorials/machine-learning-tutorial/machine-learning-applications \"Hire From Us\") *   [Reviews](https://www.simplilearn.com/tutorials/machine-learning-tutorial/machine-learning-applications \"Reviews\") *   [Certifications](https://www.simplilearn.com/tutorials/machine-learning-tutorial/machine-learning-applications#) *   [Career Aligned Learning Paths](https://www.simplilearn.com/tutorials/machine-learning-tutorial/machine-learning-applications#) *   [University Partners](https://www.simplilearn.com/tutorials/machine-learning-tutorial/machine-learning-applications#) *   [Industry Partners](https://www.simplilearn.com/tutorials/machine-learning-tutorial/machine-learning-applications#) ![Image 2: Top 10 Machine Learning Applications in 2025](https://www.simplilearn.com/ice9/free_resources_article_thumb/6_Incredible_Machine_Learning_Applications.jpg) With Our Trending Post Graduate Program[Learn More Now](https://www.simplilearn.com/pgp-ai-machine-learning-certification-training-course?source=GhPreviewCTABanner) Product recommendation is one of the most popular and known [applications of machine learning](https://www.simplilearn.com/tutorials/artificial-intelligence-tutorial/artificial-intelligence-applications \"applications of machine learning\"). With Our Comprehensive Post Graduate Program[Learn More Now](https://www.simplilearn.com/pgp-ai-machine-learning-certification-training-course?source=GhPreviewCTABanner) [Sentiment analysis](https://www.simplilearn.com/resources \"Sentiment analysis\") is a real-time machine learning application that determines the emotion or opinion of the speaker or the writer. [Explore Category](https://www.simplilearn.com/ai-and-machine-learning) Deep Learning](https://www.simplilearn.com/ice9/free_resources_article_thumb/AI_vs_Machine_Learning_vs_Deep_Learning.jpg) Discover the Differences Between … Tutorial](https://www.simplilearn.com/tutorials/artificial-intelligence-tutorial/ai-vs-machine-learning-vs-deep-learning) [](https://www.simplilearn.com/tutorials/machine-learning-tutorial/machine-learning-applications#GoTop \"Go to top\")',\n",
       "  'score': 0.98573},\n",
       " {'title': 'What is Machine Learning (ML) - IBM',\n",
       "  'url': 'https://www.ibm.com/think/topics/machine-learning',\n",
       "  'content': 'Machine learning is the subset of artificial intelligence (AI) focused on algorithms that can “learn” the patterns of training data and, subsequently, make accurate\\xa0*inferences*\\xa0about new data. The central premise of machine learning (ML) is that if you optimize a model’s performance on a dataset of tasks that adequately resemble the real-world problems it will be used for—through a process called\\xa0model training—the model can make accurate predictions on the\\xa0new\\xa0data it sees in its ultimate use case. In essence, a trained model is applying patterns it learned from training data to\\xa0infer\\xa0the correct output for a real-world task: the deployment of an\\xa0AI model\\xa0is therefore called\\xa0AI inference.',\n",
       "  'score': 0.98558},\n",
       " {'title': 'Machine learning, explained | MIT Sloan',\n",
       "  'url': 'https://mitsloan.mit.edu/ideas-made-to-matter/machine-learning-explained',\n",
       "  'content': '[Skip to main content](https://mitsloan.mit.edu/ideas-made-to-matter/machine-learning-explained#main-content) *   [](https://www.facebook.com/dialog/share?app_id=197866067790470&display=popup&href=https://mitsloan.mit.edu/ideas-made-to-matter/machine-learning-explained&redirect_uri=https://mitsloan.mit.edu/ideas-made-to-matter/machine-learning-explained&quote=This%20pervasive%20and%20powerful%20form%20of%20artificial%20intelligence%20is%20changing%20every%20industry.%20Here%E2%80%99s%20what%20you%20need%20to%20know%20about%20the%20potential%20and%20limitations%20of%20machine%20learning%20and%20how%20it%E2%80%99s%20being%20used. *   [](https://twitter.com/intent/tweet?url=https://mitsloan.mit.edu/ideas-made-to-matter/machine-learning-explained&text=This%20pervasive%20and%20powerful%20form%20of%20artificial%20intelligence%20is%20changing%20every%20industry.%20Here%E2%80%99s%20what%20you%20need%20to%20know%20about%20the%20potential%20and%20limitations%20of%20machine%20learning%20and%20how%20it%E2%80%99s%20being%20%E2%80%A6&via=MITSloan \"Share on X\") *   [](https://www.linkedin.com/shareArticle?mini=true&url=https://mitsloan.mit.edu/ideas-made-to-matter/machine-learning-explained&title=Machine%20learning,%20explained%20&summary=This%20pervasive%20and%20powerful%20form%20of%20artificial%20intelligence%20is%20changing%20every%20industry.%20Here%E2%80%99s%20what%20you%20need%20to%20know%20about%20the%20potential%20and%20limitations%20of%20machine%20learning%20and%20how%20it%E2%80%99s%20being%20used.&source= \"Share on LinkedIn\") *   [](mailto:?subject=Machine%20learning%2C%20explained%20&body=This%20pervasive%20and%20powerful%20form%20of%20artificial%20intelligence%20is%20changing%20every%20industry.%20Here%E2%80%99s%20what%20you%20need%20to%20know%20about%20the%20potential%20and%20limitations%20of%20machine%20learning%20and%20how%20it%E2%80%99s%20being%20used.%20https%3A%2F%2Fmitsloan.mit.edu%2Fideas-made-to-matter%2Fmachine-learning-explained \"Mail link\") *   [facebook](https://www.facebook.com/dialog/share?app_id=197866067790470&display=popup&href=https://mitsloan.mit.edu/ideas-made-to-matter/machine-learning-explained&redirect_uri=https://mitsloan.mit.edu/ideas-made-to-matter/machine-learning-explained&quote=) *   [X](https://twitter.com/intent/tweet?url=https://mitsloan.mit.edu/ideas-made-to-matter/machine-learning-explained&text=Machine%20learning,%20explained%20&via=MITSloan) *   [linkedin](https://www.linkedin.com/shareArticle?mini=true&url=https://mitsloan.mit.edu/ideas-made-to-matter/machine-learning-explained&title=Machine%20learning,%20explained%20&summary=&source=) *   [print](https://mitsloan.mit.edu/ideas-made-to-matter/machine-learning-explained#) “Machine learning is changing, or will change, every industry, and leaders need to understand the basic principles, the potential, and the limitations,” said MIT computer science professor [Aleksander Madry](https://people.csail.mit.edu/madry/), director of the [MIT Center for Deployable Machine Learning](https://www.csail.mit.edu/research/center-deployable-machine-learning-cdml). Ways to [fight against bias in machine learning](https://sloanreview.mit.edu/article/the-risk-of-machine-learning-bias-and-how-to-prevent-it/) including carefully vetting training data and putting [organizational support behind ethical artificial intelligence efforts,](https://sloanreview.mit.edu/article/putting-responsible-ai-into-practice/) like making sure your organization embraces [human-centered AI](https://mitsloan.mit.edu/ideas-made-to-matter/how-can-human-centered-ai-fight-bias-machines-and-people), the practice of seeking input from people of different backgrounds, experiences, and lifestyles when designing AI systems. *   [](https://www.facebook.com/dialog/share?app_id=197866067790470&display=popup&href=https://mitsloan.mit.edu/ideas-made-to-matter/machine-learning-explained&redirect_uri=https://mitsloan.mit.edu/ideas-made-to-matter/machine-learning-explained&quote=Machine%20learning%20is%20changing,%20or%20will%20change,%20every%20industry,%20and%20leaders%20need%20to%20understand%20the%20basic%20principles,%20the%20potential,%20and%20the%20limitations. *   [](https://twitter.com/intent/tweet?url=https://mitsloan.mit.edu/ideas-made-to-matter/machine-learning-explained&text=Machine%20learning%20is%20changing,%20or%20will%20change,%20every%20industry,%20and%20leaders%20need%20to%20understand%20the%20basic%20principles,%20the%20potential,%20and%20the%20limitations.&via=MITSloan \"Share on X\") *   [](https://www.linkedin.com/shareArticle?mini=true&url=https://mitsloan.mit.edu/ideas-made-to-matter/machine-learning-explained&title=Machine%20learning,%20explained%20&summary=Machine%20learning%20is%20changing,%20or%20will%20change,%20every%20industry,%20and%20leaders%20need%20to%20understand%20the%20basic%20principles,%20the%20potential,%20and%20the%20limitations.&source= \"Share on LinkedIn\") *   [](mailto:?subject=Machine%20learning%2C%20explained%20&body=Machine%20learning%20is%20changing,%20or%20will%20change,%20every%20industry,%20and%20leaders%20need%20to%20understand%20the%20basic%20principles,%20the%20potential,%20and%20the%20limitations.%20https%3A%2F%2Fmitsloan.mit.edu%2Fideas-made-to-matter%2Fmachine-learning-explained \"Mail link\")',\n",
       "  'score': 0.98305},\n",
       " {'title': '10 Machine Learning Applications',\n",
       "  'url': 'https://www.coursera.org/articles/machine-learning-applications',\n",
       "  'content': \"* Machine learning is a subset of AI that is used to power many of the modern world's conveniences and technology, including recommendation engines, fraud detection, and translation software. Machine learning is a subfield of artificial intelligence (AI) that uses models created from algorithms trained on data sets to perform relatively complex tasks that traditionally could only be performed by humans, such as making predictions or categorizing information. As a result, machine learning is one of the most ubiquitous forms of AI used today and accounts for many of the recent advances in the goods and services that people use every day. One of the most common uses of machine learning is image recognition.\",\n",
       "  'score': 0.98294},\n",
       " {'title': 'Machine learning - Wikipedia',\n",
       "  'url': 'https://en.wikipedia.org/wiki/Machine_learning',\n",
       "  'content': 'Machine learning (ML) is a field of study in artificial intelligence concerned with the development and study of statistical algorithms that can learn from data',\n",
       "  'score': 0.97922}]"
      ]
     },
     "execution_count": 13,
     "metadata": {},
     "output_type": "execute_result"
    }
   ],
   "source": [
    "tavily.invoke(\"Tell me about machine learning\")"
   ]
  },
  {
   "cell_type": "code",
   "execution_count": 14,
   "id": "937b6442",
   "metadata": {},
   "outputs": [],
   "source": [
    "tools=[arxiv, wiki, tavily]"
   ]
  },
  {
   "cell_type": "code",
   "execution_count": 15,
   "id": "6b2a0444",
   "metadata": {},
   "outputs": [],
   "source": [
    "from langchain_groq import ChatGroq\n",
    "\n",
    "groq_llm=ChatGroq(model=\"qwen/qwen3-32b\")\n",
    "\n",
    "llm_with_tools=groq_llm.bind_tools(tools)"
   ]
  },
  {
   "cell_type": "code",
   "execution_count": 16,
   "id": "e2862c13",
   "metadata": {},
   "outputs": [
    {
     "data": {
      "text/plain": [
       "AIMessage(content='', additional_kwargs={'reasoning_content': 'Okay, the user is asking about the \"Attention is All You Need\" research paper. Let me think. First, I need to recall what that paper is about. I remember it\\'s a seminal paper in the field of natural language processing, introducing the Transformer model. The key innovation was the attention mechanism, which allows the model to focus on different parts of the input when processing information. \\n\\nBut wait, the user might want specific details like the authors, publication year, or the impact of the paper. Since I don\\'t have that memorized, I should use the available tools to look it up. The tools provided include arXiv, Wikipedia, and Tavily search. The paper was published on arXiv, so using the arXiv function would be the best bet here. \\n\\nLet me check the function parameters. The arXiv function requires a search query. The query should be \"Attention is All You Need\" to find the exact paper. I\\'ll format the tool call with that query. I need to make sure the JSON is correctly structured with the name as \"arxiv\" and the arguments containing the query. \\n\\nWait, could there be any other sources? Maybe Tavily could have information, but since it\\'s a research paper, arXiv is the primary source. Wikipedia might have an entry on the Transformer model, but the user specifically mentioned the research paper. So arXiv is the right choice here. \\n\\nLet me confirm the function call structure. The user\\'s question is about the research paper itself, so searching arXiv with the title should retrieve the necessary information. I\\'ll proceed with that.\\n', 'tool_calls': [{'id': '8wpnngk2y', 'function': {'arguments': '{\"query\":\"Attention is All You Need\"}', 'name': 'arxiv'}, 'type': 'function'}]}, response_metadata={'token_usage': {'completion_tokens': 362, 'prompt_tokens': 406, 'total_tokens': 768, 'completion_time': 22.885854461, 'prompt_time': 1.0911849120000001, 'queue_time': 0.459426536, 'total_time': 23.977039373}, 'model_name': 'qwen/qwen3-32b', 'system_fingerprint': 'fp_5cf921caa2', 'service_tier': 'on_demand', 'finish_reason': 'tool_calls', 'logprobs': None}, id='run--b4a5a0f7-eb00-477b-bf99-dd98574047c6-0', tool_calls=[{'name': 'arxiv', 'args': {'query': 'Attention is All You Need'}, 'id': '8wpnngk2y', 'type': 'tool_call'}], usage_metadata={'input_tokens': 406, 'output_tokens': 362, 'total_tokens': 768})"
      ]
     },
     "execution_count": 16,
     "metadata": {},
     "output_type": "execute_result"
    }
   ],
   "source": [
    "from pprint import pprint\n",
    "from langchain_core.messages import AIMessage, HumanMessage\n",
    "llm_with_tools.invoke([HumanMessage(content=\"tell me about attentions is all you need reasearch paper\")])"
   ]
  }
 ],
 "metadata": {
  "kernelspec": {
   "display_name": "venv",
   "language": "python",
   "name": "python3"
  },
  "language_info": {
   "codemirror_mode": {
    "name": "ipython",
    "version": 3
   },
   "file_extension": ".py",
   "mimetype": "text/x-python",
   "name": "python",
   "nbconvert_exporter": "python",
   "pygments_lexer": "ipython3",
   "version": "3.12.0"
  }
 },
 "nbformat": 4,
 "nbformat_minor": 5
}
