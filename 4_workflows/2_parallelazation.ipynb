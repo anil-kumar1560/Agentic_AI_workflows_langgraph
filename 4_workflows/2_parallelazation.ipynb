{
 "cells": [
  {
   "cell_type": "code",
   "execution_count": 1,
   "id": "a63aac49",
   "metadata": {},
   "outputs": [
    {
     "data": {
      "text/plain": [
       "AIMessage(content='<think>\\nOkay, the user sent \"Hello\". That\\'s a greeting. I should respond politely. Let me check the guidelines. Keep it friendly and open. Maybe ask how I can assist them. Keep the response simple and welcoming. Alright, something like \"Hello! How can I assist you today?\" Yeah, that sounds good.\\n</think>\\n\\nHello! How can I assist you today?', additional_kwargs={}, response_metadata={'token_usage': {'completion_tokens': 79, 'prompt_tokens': 9, 'total_tokens': 88, 'completion_time': 0.189022012, 'prompt_time': 0.00036754, 'queue_time': 0.21507691, 'total_time': 0.189389552}, 'model_name': 'qwen/qwen3-32b', 'system_fingerprint': 'fp_5cf921caa2', 'service_tier': 'on_demand', 'finish_reason': 'stop', 'logprobs': None}, id='run--8847baf0-7d2a-48e1-83b7-cc9408dfabee-0', usage_metadata={'input_tokens': 9, 'output_tokens': 79, 'total_tokens': 88})"
      ]
     },
     "execution_count": 1,
     "metadata": {},
     "output_type": "execute_result"
    }
   ],
   "source": [
    "import os \n",
    "from dotenv import load_dotenv\n",
    "load_dotenv()\n",
    "\n",
    "from langchain_groq import ChatGroq\n",
    "\n",
    "os.environ[\"GROQ_API_KEY\"]= os.getenv(\"Groq_API_Key\")\n",
    "\n",
    "groq_llm=ChatGroq(model=\"qwen/qwen3-32b\")\n",
    "\n",
    "result=groq_llm.invoke(\"Hello\")\n",
    "\n",
    "result"
   ]
  },
  {
   "cell_type": "code",
   "execution_count": 12,
   "id": "dbb53352",
   "metadata": {},
   "outputs": [],
   "source": [
    "from typing_extensions import TypedDict\n",
    "from langgraph.graph import StateGraph, START, END\n",
    "from IPython.display import Image,display\n",
    "\n",
    "## Graph State\n",
    "\n",
    "\n",
    "class State(TypedDict):\n",
    "    topic:str\n",
    "    characters:str\n",
    "    settings:str\n",
    "    premises:str\n",
    "    story_intro:str\n"
   ]
  },
  {
   "cell_type": "code",
   "execution_count": 13,
   "id": "998fdac9",
   "metadata": {},
   "outputs": [],
   "source": [
    "# Nodes\n",
    "\n",
    "def generate_characters(state:State):\n",
    "    msg=groq_llm.invoke(f\"create a two characters names and breif traits for story about {state[\"topic\"]}\")\n",
    "    return {\"characters\":msg.content}\n",
    "\n",
    "def generate_setting(state:State):\n",
    "    msg=groq_llm.invoke(f\"Describe a vivid setting for a story about {state[\"topic\"]}\")\n",
    "    return {\"settings\":msg.content}\n",
    "\n",
    "def generate_premise(state:State):\n",
    "    msg=groq_llm.invoke(f\"write a one sentence plot premise for a story about {state[\"topic\"]}\")\n",
    "    return {\"premises\":msg.content}\n",
    "\n",
    "\n",
    "def combine_elements(state:State):\n",
    "    msg=groq_llm.invoke(\n",
    "        f\"Write a short story introducing using these elements:\\n\"\n",
    "        f\"Characters:{state[\"characters\"]}\\n\"\n",
    "        f\"Setting:{state[\"settings\"]}\\n\"\n",
    "        f\"Premise: {state[\"premises\"]}\"\n",
    "    )\n",
    "    return {\"story_intro\":msg.content}\n"
   ]
  },
  {
   "cell_type": "code",
   "execution_count": 14,
   "id": "e11d846a",
   "metadata": {},
   "outputs": [
    {
     "data": {
      "text/plain": [
       "<langgraph.graph.state.StateGraph at 0x21618fe3500>"
      ]
     },
     "execution_count": 14,
     "metadata": {},
     "output_type": "execute_result"
    }
   ],
   "source": [
    "# Build the graph\n",
    "\n",
    "graph=StateGraph(State)\n",
    "graph.add_node(\"character\",generate_characters)\n",
    "graph.add_node(\"settings\",generate_setting)\n",
    "graph.add_node(\"premise\",generate_premise)\n",
    "graph.add_node(\"combine\",combine_elements)"
   ]
  },
  {
   "cell_type": "code",
   "execution_count": 15,
   "id": "a19e5e70",
   "metadata": {},
   "outputs": [
    {
     "data": {
      "image/png": "[encoded data removed]",
      "text/plain": [
       "<IPython.core.display.Image object>"
      ]
     },
     "metadata": {},
     "output_type": "display_data"
    }
   ],
   "source": [
    "## adding Edges\n",
    "graph.add_edge(START,\"character\")\n",
    "graph.add_edge(START,\"settings\")\n",
    "graph.add_edge(START,\"premise\")\n",
    "graph.add_edge(\"character\",\"combine\")\n",
    "graph.add_edge(\"settings\",\"combine\")\n",
    "graph.add_edge(\"premise\",\"combine\")\n",
    "graph.add_edge(\"combine\",END)\n",
    "\n",
    "compiled_graph=graph.compile()\n",
    "graph_image=compiled_graph.get_graph().draw_mermaid_png()\n",
    "display(Image(graph_image))\n"
   ]
  },
  {
   "cell_type": "code",
   "execution_count": 16,
   "id": "8b7047ef",
   "metadata": {},
   "outputs": [
    {
     "name": "stdout",
     "output_type": "stream",
     "text": [
      "<think>\n",
      "Okay, the user wants a short story incorporating time travel elements. Let me start by recalling the characters and setting they provided. The characters are Dr. Elara Voss, a physicist haunted by her wife's death, and Kael Renner, a pilot with a tragic past. The setting is the Chronosynclastic Lighthouse of Eon Dunes, a place where time fractures and timelines converge.\n",
      "\n",
      "First, I need to introduce Elara and Kael. Elara is driven by guilt, trying to fix the past, while Kael is pragmatic and skeptical. Their dynamic should show tension but also mutual respect. The lighthouse is a key element here—describing it as a mysterious, shifting structure with dangerous doorways into different eras.\n",
      "\n",
      "The premise from the user involves a physicist trying to undo a mistake, leading to unintended consequences. I should mirror that in the story. Maybe Elara's attempt to save her wife causes a timeline collapse, and Kael is there to prevent it. \n",
      "\n",
      "I need to include vivid elements from the setting: the lighthouse's appearance, the portal's sensory details, and the fractured timelines. The climax could involve a tough choice between saving her wife or the world, highlighting their conflicting motivations. \n",
      "\n",
      "I should also think about the structure. Start with Elara and Kael entering the lighthouse, then the experiment, the consequences, and the resolution. Maybe end with a bittersweet note, showing the cost of tampering with time. \n",
      "\n",
      "Check for coherence: Does the story use all the provided elements? Yes—characters with personal stakes, the setting's unique features, and the time travel premise. Make sure to keep the language descriptive but concise, fitting a short story. \n",
      "\n",
      "Possible title: \"The Chronosynclastic Lighthouse of Eon Dunes\" as given. Now, draft the story, ensuring each paragraph flows into the next, building tension and character development.\n",
      "</think>\n",
      "\n",
      "**Title: The Chronosynclastic Lighthouse of Eon Dunes**  \n",
      "\n",
      "Dr. Elara Voss stood at the edge of the dunes, her boots sinking into the temporal mosaic of the Eon Wastes. The lighthouse loomed ahead, its brass-and-obsidian spire casting fractal shadows across the desert. Kael Renner, his rifle slung over one shoulder, muttered, “You sure this isn’t a death trap?”  \n",
      "\n",
      "“It’s the only way,” Elara said, voice trembling. Her wife’s face flickered in her mind—smiling, then dissolving into smoke during the lab explosion she’d tried to stop. The lighthouse’s door groaned open, revealing a spiral of contradictions: a 1920s gramophone played Beethoven’s *Ode to Joy* while a hologram of a Martian colony flickered above it.  \n",
      "\n",
      "Inside, they found the Chronosynclastic Core—a pulsating orb of liquid light. Elara’s hands shook as she calibrated the dials to her wife’s last moment. Kael gripped her arm. “You said this could erase timelines. What if she’s not *meant* to survive?”  \n",
      "\n",
      "“*I’m* meant to fix this,” she hissed. The portal flared, a vortex of starlight and static. They stepped through—  \n",
      "\n",
      "—and landed in her lab, seconds before the explosion. Elara raced to pull her wife away, but the device’s energy cracked the air. A new paradox rippled outward: the lab dissolved into a wasteland of shattered time, cities crumbling as history unraveled.  \n",
      "\n",
      "Kael, eyes wide, shouted, “This isn’t your fault! You’re *causing* the collapse!”  \n",
      "\n",
      "“No—*his* version of me did,” she whispered, spotting a figure in the haze: the future-Kael she’d once heard about in military files, his face a mask of hatred. “He’s here to stop the timeline decay. We need to merge your grief with his… or everyone dies.”  \n",
      "\n",
      "They raced to the lighthouse’s heart, dodging temporal storms. Future-Kael lunged, but Elara froze, realizing the truth: saving her wife would doom billions. With a scream, she shattered the Core, sacrificing the chance to change the past.  \n",
      "\n",
      "The lighthouse imploded. In the wreckage, Kael found her staring at the dunes, now empty. “You did the right thing,” he said, but her eyes were hollow.  \n",
      "\n",
      "“Time doesn’t forgive,” she murmured. Somewhere, the Eon Wastes shifted, hiding the lighthouse once more—waiting for the next soul desperate enough to test its gears.\n"
     ]
    }
   ],
   "source": [
    "state={\"topic\":\"time travel\"}\n",
    "result=compiled_graph.invoke(state)\n",
    "print(result[\"story_intro\"])"
   ]
  },
  {
   "cell_type": "code",
   "execution_count": 8,
   "id": "d4a19f39",
   "metadata": {},
   "outputs": [
    {
     "data": {
      "text/plain": [
       "''"
      ]
     },
     "execution_count": 8,
     "metadata": {},
     "output_type": "execute_result"
    }
   ],
   "source": [
    "\"\""
   ]
  },
  {
   "cell_type": "code",
   "execution_count": null,
   "id": "04220e8a",
   "metadata": {},
   "outputs": [],
   "source": []
  }
 ],
 "metadata": {
  "kernelspec": {
   "display_name": "venv",
   "language": "python",
   "name": "python3"
  },
  "language_info": {
   "codemirror_mode": {
    "name": "ipython",
    "version": 3
   },
   "file_extension": ".py",
   "mimetype": "text/x-python",
   "name": "python",
   "nbconvert_exporter": "python",
   "pygments_lexer": "ipython3",
   "version": "3.12.0"
  }
 },
 "nbformat": 4,
 "nbformat_minor": 5
}
